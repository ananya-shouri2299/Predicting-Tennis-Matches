{
 "cells": [
  {
   "cell_type": "code",
   "id": "initial_id",
   "metadata": {
    "collapsed": true,
    "ExecuteTime": {
     "end_time": "2024-06-24T17:44:43.005508Z",
     "start_time": "2024-06-24T17:44:41.046053Z"
    }
   },
   "source": [
    "import pandas as pd\n",
    "import numpy as np\n",
    "import warnings\n",
    "\n",
    "from sklearn.tree import DecisionTreeClassifier\n",
    "\n",
    "warnings.filterwarnings('ignore')"
   ],
   "outputs": [],
   "execution_count": 1
  },
  {
   "metadata": {
    "ExecuteTime": {
     "end_time": "2024-06-24T18:33:10.563158Z",
     "start_time": "2024-06-24T18:33:10.332212Z"
    }
   },
   "cell_type": "code",
   "source": [
    "atp_matches_2011 = pd.read_csv('atp_matches_2011.csv')\n",
    "atp_matches_2012 = pd.read_csv('atp_matches_2012.csv')\n",
    "atp_matches_2013 = pd.read_csv('atp_matches_2013.csv')\n",
    "atp_matches_2014 = pd.read_csv('atp_matches_2014.csv')\n",
    "atp_matches_2015 = pd.read_csv('atp_matches_2015.csv')\n",
    "atp_matches_2016 = pd.read_csv('atp_matches_2016.csv')\n",
    "atp_matches_2017 = pd.read_csv('atp_matches_2017.csv')\n",
    "atp_matches_2018 = pd.read_csv('atp_matches_2018.csv')\n",
    "atp_matches_2019 = pd.read_csv('atp_matches_2019.csv')\n",
    "atp_matches_2020 = pd.read_csv('atp_matches_2020.csv')\n",
    "atp_matches_2021 = pd.read_csv('atp_matches_2021.csv')\n",
    "atp_matches_2022 = pd.read_csv('atp_matches_2022.csv')\n",
    "atp_matches_2023 = pd.read_csv('atp_matches_2023.csv')\n",
    "atp_matches_2024 = pd.read_csv('atp_matches_2024.csv')"
   ],
   "id": "513817a624ea7bc6",
   "outputs": [],
   "execution_count": 32
  },
  {
   "metadata": {
    "ExecuteTime": {
     "end_time": "2024-06-24T18:33:12.434465Z",
     "start_time": "2024-06-24T18:33:11.216299Z"
    }
   },
   "cell_type": "code",
   "source": [
    "atp_matches = pd.concat([atp_matches_2011, atp_matches_2012, atp_matches_2013, atp_matches_2014, atp_matches_2015, atp_matches_2016, atp_matches_2017, atp_matches_2018, atp_matches_2019, atp_matches_2020, atp_matches_2021, atp_matches_2022, atp_matches_2023, atp_matches_2024], ignore_index=True)\n",
    "\n",
    "atp_matches.to_csv('atp_matches_final.csv')"
   ],
   "id": "4aa08ec19e5ac15e",
   "outputs": [],
   "execution_count": 33
  },
  {
   "metadata": {
    "ExecuteTime": {
     "end_time": "2024-06-24T17:44:57.923139Z",
     "start_time": "2024-06-24T17:44:57.892163Z"
    }
   },
   "cell_type": "code",
   "source": [
    "length = len(atp_matches)/2\n",
    "\n",
    "y= []\n",
    "for i in range(int(length)):\n",
    "    y.append(0)\n",
    "for i in range(int(length)):\n",
    "    y.append(1)\n",
    "atp_matches['y'] = pd.Series(y, index=atp_matches.index)"
   ],
   "id": "11118a4c02f7a78d",
   "outputs": [],
   "execution_count": 4
  },
  {
   "metadata": {
    "ExecuteTime": {
     "end_time": "2024-06-24T16:49:11.157190Z",
     "start_time": "2024-06-24T16:49:11.140611Z"
    }
   },
   "cell_type": "code",
   "source": "atp_matches = shuffle(atp_matches)",
   "id": "ffc7da0403179cd5",
   "outputs": [
    {
     "ename": "NameError",
     "evalue": "name 'shuffle' is not defined",
     "output_type": "error",
     "traceback": [
      "\u001B[1;31m---------------------------------------------------------------------------\u001B[0m",
      "\u001B[1;31mNameError\u001B[0m                                 Traceback (most recent call last)",
      "Cell \u001B[1;32mIn[58], line 1\u001B[0m\n\u001B[1;32m----> 1\u001B[0m atp_matches \u001B[38;5;241m=\u001B[39m \u001B[43mshuffle\u001B[49m(atp_matches)\n",
      "\u001B[1;31mNameError\u001B[0m: name 'shuffle' is not defined"
     ]
    }
   ],
   "execution_count": 58
  },
  {
   "metadata": {
    "ExecuteTime": {
     "end_time": "2024-06-24T16:49:11.916675Z",
     "start_time": "2024-06-24T16:49:11.788662Z"
    }
   },
   "cell_type": "code",
   "source": "atp_matches.describe()",
   "id": "dbd1d0547f9711f1",
   "outputs": [
    {
     "data": {
      "text/plain": [
       "          draw_size  tourney_date     match_num      winner_id     winner_ht  \\\n",
       "count  37882.000000  3.788200e+04  37882.000000   37882.000000  36983.000000   \n",
       "mean      57.349718  2.017150e+07    162.997888  115952.832269    187.240408   \n",
       "std       42.112188  3.956435e+04    151.325046   27478.142794      6.996811   \n",
       "min        2.000000  2.011010e+07      1.000000  100644.000000    163.000000   \n",
       "25%       32.000000  2.014021e+07     20.000000  104597.000000    183.000000   \n",
       "50%       32.000000  2.017050e+07    179.000000  105273.000000    188.000000   \n",
       "75%       96.000000  2.021032e+07    282.000000  106415.000000    191.000000   \n",
       "max      128.000000  2.024052e+07   1701.000000  212721.000000    211.000000   \n",
       "\n",
       "         winner_age       loser_id      loser_ht     loser_age       best_of  \\\n",
       "count  37877.000000   37882.000000  36202.000000  37870.000000  37882.000000   \n",
       "mean      27.225599  115978.894858    186.513646     27.222654      3.432026   \n",
       "std        4.187193   27366.306390      6.827150      4.313356      0.823057   \n",
       "min       14.900000  100644.000000    163.000000     14.500000      3.000000   \n",
       "25%       24.200000  104607.000000    183.000000     24.100000      3.000000   \n",
       "50%       27.000000  105379.000000    185.000000     27.100000      3.000000   \n",
       "75%       30.100000  106421.000000    190.000000     30.200000      3.000000   \n",
       "max       43.600000  212722.000000    211.000000     46.000000      5.000000   \n",
       "\n",
       "       ...      l_1stWon      l_2ndWon       l_SvGms     l_bpSaved  \\\n",
       "count  ...  35535.000000  35535.000000  35536.000000  35535.000000   \n",
       "mean   ...     33.272407     14.858252     12.427651      4.757282   \n",
       "std    ...     14.507627      7.058363      4.233225      3.265444   \n",
       "min    ...      0.000000      0.000000      0.000000      0.000000   \n",
       "25%    ...     23.000000     10.000000      9.000000      2.000000   \n",
       "50%    ...     31.000000     14.000000     11.000000      4.000000   \n",
       "75%    ...     41.000000     19.000000     15.000000      7.000000   \n",
       "max    ...    171.000000     57.000000     50.000000     27.000000   \n",
       "\n",
       "          l_bpFaced   winner_rank  winner_rank_points    loser_rank  \\\n",
       "count  35535.000000  37648.000000        37648.000000  37275.000000   \n",
       "mean       8.526636     74.840656         1902.895028    112.210087   \n",
       "std        4.140727    129.047790         2340.570948    181.569512   \n",
       "min        0.000000      1.000000            1.000000      1.000000   \n",
       "25%        6.000000     17.000000          670.000000     35.000000   \n",
       "50%        8.000000     44.000000         1033.000000     66.000000   \n",
       "75%       11.000000     83.000000         2020.250000    110.000000   \n",
       "max       38.000000   2101.000000        16950.000000   2159.000000   \n",
       "\n",
       "       loser_rank_points             y  \n",
       "count       37275.000000  37882.000000  \n",
       "mean         1118.753749      0.500000  \n",
       "std          1292.546935      0.500007  \n",
       "min             1.000000      0.000000  \n",
       "25%           529.000000      0.000000  \n",
       "50%           791.000000      0.500000  \n",
       "75%          1210.000000      1.000000  \n",
       "max         16950.000000      1.000000  \n",
       "\n",
       "[8 rows x 34 columns]"
      ],
      "text/html": [
       "<div>\n",
       "<style scoped>\n",
       "    .dataframe tbody tr th:only-of-type {\n",
       "        vertical-align: middle;\n",
       "    }\n",
       "\n",
       "    .dataframe tbody tr th {\n",
       "        vertical-align: top;\n",
       "    }\n",
       "\n",
       "    .dataframe thead th {\n",
       "        text-align: right;\n",
       "    }\n",
       "</style>\n",
       "<table border=\"1\" class=\"dataframe\">\n",
       "  <thead>\n",
       "    <tr style=\"text-align: right;\">\n",
       "      <th></th>\n",
       "      <th>draw_size</th>\n",
       "      <th>tourney_date</th>\n",
       "      <th>match_num</th>\n",
       "      <th>winner_id</th>\n",
       "      <th>winner_ht</th>\n",
       "      <th>winner_age</th>\n",
       "      <th>loser_id</th>\n",
       "      <th>loser_ht</th>\n",
       "      <th>loser_age</th>\n",
       "      <th>best_of</th>\n",
       "      <th>...</th>\n",
       "      <th>l_1stWon</th>\n",
       "      <th>l_2ndWon</th>\n",
       "      <th>l_SvGms</th>\n",
       "      <th>l_bpSaved</th>\n",
       "      <th>l_bpFaced</th>\n",
       "      <th>winner_rank</th>\n",
       "      <th>winner_rank_points</th>\n",
       "      <th>loser_rank</th>\n",
       "      <th>loser_rank_points</th>\n",
       "      <th>y</th>\n",
       "    </tr>\n",
       "  </thead>\n",
       "  <tbody>\n",
       "    <tr>\n",
       "      <th>count</th>\n",
       "      <td>37882.000000</td>\n",
       "      <td>3.788200e+04</td>\n",
       "      <td>37882.000000</td>\n",
       "      <td>37882.000000</td>\n",
       "      <td>36983.000000</td>\n",
       "      <td>37877.000000</td>\n",
       "      <td>37882.000000</td>\n",
       "      <td>36202.000000</td>\n",
       "      <td>37870.000000</td>\n",
       "      <td>37882.000000</td>\n",
       "      <td>...</td>\n",
       "      <td>35535.000000</td>\n",
       "      <td>35535.000000</td>\n",
       "      <td>35536.000000</td>\n",
       "      <td>35535.000000</td>\n",
       "      <td>35535.000000</td>\n",
       "      <td>37648.000000</td>\n",
       "      <td>37648.000000</td>\n",
       "      <td>37275.000000</td>\n",
       "      <td>37275.000000</td>\n",
       "      <td>37882.000000</td>\n",
       "    </tr>\n",
       "    <tr>\n",
       "      <th>mean</th>\n",
       "      <td>57.349718</td>\n",
       "      <td>2.017150e+07</td>\n",
       "      <td>162.997888</td>\n",
       "      <td>115952.832269</td>\n",
       "      <td>187.240408</td>\n",
       "      <td>27.225599</td>\n",
       "      <td>115978.894858</td>\n",
       "      <td>186.513646</td>\n",
       "      <td>27.222654</td>\n",
       "      <td>3.432026</td>\n",
       "      <td>...</td>\n",
       "      <td>33.272407</td>\n",
       "      <td>14.858252</td>\n",
       "      <td>12.427651</td>\n",
       "      <td>4.757282</td>\n",
       "      <td>8.526636</td>\n",
       "      <td>74.840656</td>\n",
       "      <td>1902.895028</td>\n",
       "      <td>112.210087</td>\n",
       "      <td>1118.753749</td>\n",
       "      <td>0.500000</td>\n",
       "    </tr>\n",
       "    <tr>\n",
       "      <th>std</th>\n",
       "      <td>42.112188</td>\n",
       "      <td>3.956435e+04</td>\n",
       "      <td>151.325046</td>\n",
       "      <td>27478.142794</td>\n",
       "      <td>6.996811</td>\n",
       "      <td>4.187193</td>\n",
       "      <td>27366.306390</td>\n",
       "      <td>6.827150</td>\n",
       "      <td>4.313356</td>\n",
       "      <td>0.823057</td>\n",
       "      <td>...</td>\n",
       "      <td>14.507627</td>\n",
       "      <td>7.058363</td>\n",
       "      <td>4.233225</td>\n",
       "      <td>3.265444</td>\n",
       "      <td>4.140727</td>\n",
       "      <td>129.047790</td>\n",
       "      <td>2340.570948</td>\n",
       "      <td>181.569512</td>\n",
       "      <td>1292.546935</td>\n",
       "      <td>0.500007</td>\n",
       "    </tr>\n",
       "    <tr>\n",
       "      <th>min</th>\n",
       "      <td>2.000000</td>\n",
       "      <td>2.011010e+07</td>\n",
       "      <td>1.000000</td>\n",
       "      <td>100644.000000</td>\n",
       "      <td>163.000000</td>\n",
       "      <td>14.900000</td>\n",
       "      <td>100644.000000</td>\n",
       "      <td>163.000000</td>\n",
       "      <td>14.500000</td>\n",
       "      <td>3.000000</td>\n",
       "      <td>...</td>\n",
       "      <td>0.000000</td>\n",
       "      <td>0.000000</td>\n",
       "      <td>0.000000</td>\n",
       "      <td>0.000000</td>\n",
       "      <td>0.000000</td>\n",
       "      <td>1.000000</td>\n",
       "      <td>1.000000</td>\n",
       "      <td>1.000000</td>\n",
       "      <td>1.000000</td>\n",
       "      <td>0.000000</td>\n",
       "    </tr>\n",
       "    <tr>\n",
       "      <th>25%</th>\n",
       "      <td>32.000000</td>\n",
       "      <td>2.014021e+07</td>\n",
       "      <td>20.000000</td>\n",
       "      <td>104597.000000</td>\n",
       "      <td>183.000000</td>\n",
       "      <td>24.200000</td>\n",
       "      <td>104607.000000</td>\n",
       "      <td>183.000000</td>\n",
       "      <td>24.100000</td>\n",
       "      <td>3.000000</td>\n",
       "      <td>...</td>\n",
       "      <td>23.000000</td>\n",
       "      <td>10.000000</td>\n",
       "      <td>9.000000</td>\n",
       "      <td>2.000000</td>\n",
       "      <td>6.000000</td>\n",
       "      <td>17.000000</td>\n",
       "      <td>670.000000</td>\n",
       "      <td>35.000000</td>\n",
       "      <td>529.000000</td>\n",
       "      <td>0.000000</td>\n",
       "    </tr>\n",
       "    <tr>\n",
       "      <th>50%</th>\n",
       "      <td>32.000000</td>\n",
       "      <td>2.017050e+07</td>\n",
       "      <td>179.000000</td>\n",
       "      <td>105273.000000</td>\n",
       "      <td>188.000000</td>\n",
       "      <td>27.000000</td>\n",
       "      <td>105379.000000</td>\n",
       "      <td>185.000000</td>\n",
       "      <td>27.100000</td>\n",
       "      <td>3.000000</td>\n",
       "      <td>...</td>\n",
       "      <td>31.000000</td>\n",
       "      <td>14.000000</td>\n",
       "      <td>11.000000</td>\n",
       "      <td>4.000000</td>\n",
       "      <td>8.000000</td>\n",
       "      <td>44.000000</td>\n",
       "      <td>1033.000000</td>\n",
       "      <td>66.000000</td>\n",
       "      <td>791.000000</td>\n",
       "      <td>0.500000</td>\n",
       "    </tr>\n",
       "    <tr>\n",
       "      <th>75%</th>\n",
       "      <td>96.000000</td>\n",
       "      <td>2.021032e+07</td>\n",
       "      <td>282.000000</td>\n",
       "      <td>106415.000000</td>\n",
       "      <td>191.000000</td>\n",
       "      <td>30.100000</td>\n",
       "      <td>106421.000000</td>\n",
       "      <td>190.000000</td>\n",
       "      <td>30.200000</td>\n",
       "      <td>3.000000</td>\n",
       "      <td>...</td>\n",
       "      <td>41.000000</td>\n",
       "      <td>19.000000</td>\n",
       "      <td>15.000000</td>\n",
       "      <td>7.000000</td>\n",
       "      <td>11.000000</td>\n",
       "      <td>83.000000</td>\n",
       "      <td>2020.250000</td>\n",
       "      <td>110.000000</td>\n",
       "      <td>1210.000000</td>\n",
       "      <td>1.000000</td>\n",
       "    </tr>\n",
       "    <tr>\n",
       "      <th>max</th>\n",
       "      <td>128.000000</td>\n",
       "      <td>2.024052e+07</td>\n",
       "      <td>1701.000000</td>\n",
       "      <td>212721.000000</td>\n",
       "      <td>211.000000</td>\n",
       "      <td>43.600000</td>\n",
       "      <td>212722.000000</td>\n",
       "      <td>211.000000</td>\n",
       "      <td>46.000000</td>\n",
       "      <td>5.000000</td>\n",
       "      <td>...</td>\n",
       "      <td>171.000000</td>\n",
       "      <td>57.000000</td>\n",
       "      <td>50.000000</td>\n",
       "      <td>27.000000</td>\n",
       "      <td>38.000000</td>\n",
       "      <td>2101.000000</td>\n",
       "      <td>16950.000000</td>\n",
       "      <td>2159.000000</td>\n",
       "      <td>16950.000000</td>\n",
       "      <td>1.000000</td>\n",
       "    </tr>\n",
       "  </tbody>\n",
       "</table>\n",
       "<p>8 rows × 34 columns</p>\n",
       "</div>"
      ]
     },
     "execution_count": 59,
     "metadata": {},
     "output_type": "execute_result"
    }
   ],
   "execution_count": 59
  },
  {
   "metadata": {
    "ExecuteTime": {
     "end_time": "2024-06-24T16:49:12.411172Z",
     "start_time": "2024-06-24T16:49:12.358055Z"
    }
   },
   "cell_type": "code",
   "source": "atp_matches.info()",
   "id": "c4c404828cd586ee",
   "outputs": [
    {
     "name": "stdout",
     "output_type": "stream",
     "text": [
      "<class 'pandas.core.frame.DataFrame'>\n",
      "RangeIndex: 37882 entries, 0 to 37881\n",
      "Data columns (total 50 columns):\n",
      " #   Column              Non-Null Count  Dtype  \n",
      "---  ------              --------------  -----  \n",
      " 0   tourney_id          37882 non-null  object \n",
      " 1   tourney_name        37882 non-null  object \n",
      " 2   surface             37829 non-null  object \n",
      " 3   draw_size           37882 non-null  int64  \n",
      " 4   tourney_level       37882 non-null  object \n",
      " 5   tourney_date        37882 non-null  int64  \n",
      " 6   match_num           37882 non-null  int64  \n",
      " 7   winner_id           37882 non-null  int64  \n",
      " 8   winner_seed         16208 non-null  object \n",
      " 9   winner_entry        5070 non-null   object \n",
      " 10  winner_name         37882 non-null  object \n",
      " 11  winner_hand         37875 non-null  object \n",
      " 12  winner_ht           36983 non-null  float64\n",
      " 13  winner_ioc          37882 non-null  object \n",
      " 14  winner_age          37877 non-null  float64\n",
      " 15  loser_id            37882 non-null  int64  \n",
      " 16  loser_seed          9191 non-null   object \n",
      " 17  loser_entry         8131 non-null   object \n",
      " 18  loser_name          37882 non-null  object \n",
      " 19  loser_hand          37840 non-null  object \n",
      " 20  loser_ht            36202 non-null  float64\n",
      " 21  loser_ioc           37882 non-null  object \n",
      " 22  loser_age           37870 non-null  float64\n",
      " 23  score               37882 non-null  object \n",
      " 24  best_of             37882 non-null  int64  \n",
      " 25  round               37882 non-null  object \n",
      " 26  minutes             34079 non-null  float64\n",
      " 27  w_ace               35535 non-null  float64\n",
      " 28  w_df                35535 non-null  float64\n",
      " 29  w_svpt              35535 non-null  float64\n",
      " 30  w_1stIn             35535 non-null  float64\n",
      " 31  w_1stWon            35535 non-null  float64\n",
      " 32  w_2ndWon            35535 non-null  float64\n",
      " 33  w_SvGms             35536 non-null  float64\n",
      " 34  w_bpSaved           35535 non-null  float64\n",
      " 35  w_bpFaced           35535 non-null  float64\n",
      " 36  l_ace               35535 non-null  float64\n",
      " 37  l_df                35535 non-null  float64\n",
      " 38  l_svpt              35535 non-null  float64\n",
      " 39  l_1stIn             35535 non-null  float64\n",
      " 40  l_1stWon            35535 non-null  float64\n",
      " 41  l_2ndWon            35535 non-null  float64\n",
      " 42  l_SvGms             35536 non-null  float64\n",
      " 43  l_bpSaved           35535 non-null  float64\n",
      " 44  l_bpFaced           35535 non-null  float64\n",
      " 45  winner_rank         37648 non-null  float64\n",
      " 46  winner_rank_points  37648 non-null  float64\n",
      " 47  loser_rank          37275 non-null  float64\n",
      " 48  loser_rank_points   37275 non-null  float64\n",
      " 49  y                   37882 non-null  int64  \n",
      "dtypes: float64(27), int64(7), object(16)\n",
      "memory usage: 14.5+ MB\n"
     ]
    }
   ],
   "execution_count": 60
  },
  {
   "metadata": {
    "ExecuteTime": {
     "end_time": "2024-06-24T17:45:03.905093Z",
     "start_time": "2024-06-24T17:45:03.888694Z"
    }
   },
   "cell_type": "code",
   "source": [
    "players = ['winner_id', 'winner_name', 'loser_id', 'loser_name']\n",
    "to_drop = ['tourney_id', 'tourney_date', 'score', 'winner_seed', 'loser_seed']\n",
    "cat_cols = ['tourney_name', 'surface', 'draw_size', 'tourney_level', 'winner_entry', 'winner_hand', 'winner_ioc', 'loser_entry', 'loser_hand', 'loser_ioc', 'best_of', 'round']\n",
    "num_cols = ['match_num','winner_ht', 'winner_age','winner_rank','winner_rank_points','loser_ht','loser_age','loser_rank','loser_rank_points','minutes','w_ace','w_df', 'w_svpt','w_1stIn','w_1stWon','w_2ndWon','w_SvGms','w_bpSaved','w_bpFaced','l_ace','l_df','l_svpt','l_1stIn', 'l_1stWon','l_2ndWon','l_SvGms','l_bpSaved','l_bpFaced']"
   ],
   "id": "b11c52b82e6e0d2",
   "outputs": [],
   "execution_count": 5
  },
  {
   "metadata": {
    "ExecuteTime": {
     "end_time": "2024-06-24T17:45:05.283587Z",
     "start_time": "2024-06-24T17:45:05.247933Z"
    }
   },
   "cell_type": "code",
   "source": "atp_matches = atp_matches.drop(to_drop, axis=1)",
   "id": "ebdc3436f2d73583",
   "outputs": [],
   "execution_count": 6
  },
  {
   "metadata": {
    "ExecuteTime": {
     "end_time": "2024-06-24T17:45:06.553163Z",
     "start_time": "2024-06-24T17:45:06.480057Z"
    }
   },
   "cell_type": "code",
   "source": [
    "for i in cat_cols:\n",
    "    atp_matches[i] = atp_matches[i].replace(np.nan, atp_matches[i].mode()[0])\n"
   ],
   "id": "134a662359169eb6",
   "outputs": [],
   "execution_count": 7
  },
  {
   "metadata": {
    "ExecuteTime": {
     "end_time": "2024-06-24T17:45:07.533891Z",
     "start_time": "2024-06-24T17:45:07.493938Z"
    }
   },
   "cell_type": "code",
   "source": [
    "for i in num_cols:\n",
    "    print(i)\n",
    "    atp_matches[i] = atp_matches[i].replace(np.nan, atp_matches[i].mean())"
   ],
   "id": "d7f0c235d962c936",
   "outputs": [
    {
     "name": "stdout",
     "output_type": "stream",
     "text": [
      "match_num\n",
      "winner_ht\n",
      "winner_age\n",
      "winner_rank\n",
      "winner_rank_points\n",
      "loser_ht\n",
      "loser_age\n",
      "loser_rank\n",
      "loser_rank_points\n",
      "minutes\n",
      "w_ace\n",
      "w_df\n",
      "w_svpt\n",
      "w_1stIn\n",
      "w_1stWon\n",
      "w_2ndWon\n",
      "w_SvGms\n",
      "w_bpSaved\n",
      "w_bpFaced\n",
      "l_ace\n",
      "l_df\n",
      "l_svpt\n",
      "l_1stIn\n",
      "l_1stWon\n",
      "l_2ndWon\n",
      "l_SvGms\n",
      "l_bpSaved\n",
      "l_bpFaced\n"
     ]
    }
   ],
   "execution_count": 8
  },
  {
   "metadata": {
    "ExecuteTime": {
     "end_time": "2024-06-24T17:45:08.581300Z",
     "start_time": "2024-06-24T17:45:08.567341Z"
    }
   },
   "cell_type": "code",
   "source": [
    "def convertCatToNum(dff):\n",
    "    atp_matches_new = pd.get_dummies(dff, columns=cat_cols)\n",
    "    return atp_matches_new"
   ],
   "id": "112eca942d101481",
   "outputs": [],
   "execution_count": 9
  },
  {
   "metadata": {
    "ExecuteTime": {
     "end_time": "2024-06-24T17:45:09.970612Z",
     "start_time": "2024-06-24T17:45:09.805805Z"
    }
   },
   "cell_type": "code",
   "source": "atp_matches = convertCatToNum(atp_matches)\n",
   "id": "84dc0b6a74e805be",
   "outputs": [],
   "execution_count": 10
  },
  {
   "metadata": {
    "ExecuteTime": {
     "end_time": "2024-06-24T17:45:10.992633Z",
     "start_time": "2024-06-24T17:45:10.980305Z"
    }
   },
   "cell_type": "code",
   "source": [
    "def normalize(dff, col_name_list):\n",
    "    result = dff.copy()\n",
    "    for feature_name in col_name_list:\n",
    "        max_value = dff[feature_name].max()\n",
    "        min_value = dff[feature_name].min()\n",
    "        result[feature_name] = (dff[feature_name] - min_value) / (max_value - min_value)\n",
    "    return result"
   ],
   "id": "3824a704c23071e7",
   "outputs": [],
   "execution_count": 11
  },
  {
   "metadata": {
    "ExecuteTime": {
     "end_time": "2024-06-24T17:45:12.364289Z",
     "start_time": "2024-06-24T17:45:12.250255Z"
    }
   },
   "cell_type": "code",
   "source": "atp_matches = normalize(atp_matches, num_cols)\n",
   "id": "28db48328f32fc5a",
   "outputs": [],
   "execution_count": 12
  },
  {
   "metadata": {
    "ExecuteTime": {
     "end_time": "2024-06-24T16:49:17.478634Z",
     "start_time": "2024-06-24T16:49:17.458353Z"
    }
   },
   "cell_type": "code",
   "source": "atp_matches.head()",
   "id": "f110a315ea6760d2",
   "outputs": [
    {
     "data": {
      "text/plain": [
       "   match_num  winner_id      winner_name  winner_ht  winner_age  loser_id  \\\n",
       "0   0.000000     104417  Robin Soderling   0.625000    0.397213    105992   \n",
       "1   0.000588     103582   Michael Berrer   0.625000    0.543554    104534   \n",
       "2   0.001176     105051    Matthew Ebden   0.520833    0.285714    105357   \n",
       "3   0.001765     104797    Denis Istomin   0.520833    0.327526    105217   \n",
       "4   0.002353     103888       Mardy Fish   0.520833    0.491289    105173   \n",
       "\n",
       "         loser_name  loser_ht  loser_age   minutes  ...  best_of_5  round_BR  \\\n",
       "0     Ryan Harrison  0.416667   0.130159  0.057592  ...      False     False   \n",
       "1         Dudi Sela  0.250000   0.355556  0.132635  ...      False     False   \n",
       "2      John Millman  0.416667   0.222222  0.090750  ...      False     False   \n",
       "3  Thiemo De Bakker  0.625000   0.244444  0.081152  ...      False     False   \n",
       "4  Adrian Mannarino  0.416667   0.253968  0.068935  ...      False     False   \n",
       "\n",
       "   round_F  round_QF  round_R128  round_R16  round_R32  round_R64  round_RR  \\\n",
       "0    False     False       False      False       True      False     False   \n",
       "1    False     False       False      False       True      False     False   \n",
       "2    False     False       False      False       True      False     False   \n",
       "3    False     False       False      False       True      False     False   \n",
       "4    False     False       False      False       True      False     False   \n",
       "\n",
       "   round_SF  \n",
       "0     False  \n",
       "1     False  \n",
       "2     False  \n",
       "3     False  \n",
       "4     False  \n",
       "\n",
       "[5 rows x 1309 columns]"
      ],
      "text/html": [
       "<div>\n",
       "<style scoped>\n",
       "    .dataframe tbody tr th:only-of-type {\n",
       "        vertical-align: middle;\n",
       "    }\n",
       "\n",
       "    .dataframe tbody tr th {\n",
       "        vertical-align: top;\n",
       "    }\n",
       "\n",
       "    .dataframe thead th {\n",
       "        text-align: right;\n",
       "    }\n",
       "</style>\n",
       "<table border=\"1\" class=\"dataframe\">\n",
       "  <thead>\n",
       "    <tr style=\"text-align: right;\">\n",
       "      <th></th>\n",
       "      <th>match_num</th>\n",
       "      <th>winner_id</th>\n",
       "      <th>winner_name</th>\n",
       "      <th>winner_ht</th>\n",
       "      <th>winner_age</th>\n",
       "      <th>loser_id</th>\n",
       "      <th>loser_name</th>\n",
       "      <th>loser_ht</th>\n",
       "      <th>loser_age</th>\n",
       "      <th>minutes</th>\n",
       "      <th>...</th>\n",
       "      <th>best_of_5</th>\n",
       "      <th>round_BR</th>\n",
       "      <th>round_F</th>\n",
       "      <th>round_QF</th>\n",
       "      <th>round_R128</th>\n",
       "      <th>round_R16</th>\n",
       "      <th>round_R32</th>\n",
       "      <th>round_R64</th>\n",
       "      <th>round_RR</th>\n",
       "      <th>round_SF</th>\n",
       "    </tr>\n",
       "  </thead>\n",
       "  <tbody>\n",
       "    <tr>\n",
       "      <th>0</th>\n",
       "      <td>0.000000</td>\n",
       "      <td>104417</td>\n",
       "      <td>Robin Soderling</td>\n",
       "      <td>0.625000</td>\n",
       "      <td>0.397213</td>\n",
       "      <td>105992</td>\n",
       "      <td>Ryan Harrison</td>\n",
       "      <td>0.416667</td>\n",
       "      <td>0.130159</td>\n",
       "      <td>0.057592</td>\n",
       "      <td>...</td>\n",
       "      <td>False</td>\n",
       "      <td>False</td>\n",
       "      <td>False</td>\n",
       "      <td>False</td>\n",
       "      <td>False</td>\n",
       "      <td>False</td>\n",
       "      <td>True</td>\n",
       "      <td>False</td>\n",
       "      <td>False</td>\n",
       "      <td>False</td>\n",
       "    </tr>\n",
       "    <tr>\n",
       "      <th>1</th>\n",
       "      <td>0.000588</td>\n",
       "      <td>103582</td>\n",
       "      <td>Michael Berrer</td>\n",
       "      <td>0.625000</td>\n",
       "      <td>0.543554</td>\n",
       "      <td>104534</td>\n",
       "      <td>Dudi Sela</td>\n",
       "      <td>0.250000</td>\n",
       "      <td>0.355556</td>\n",
       "      <td>0.132635</td>\n",
       "      <td>...</td>\n",
       "      <td>False</td>\n",
       "      <td>False</td>\n",
       "      <td>False</td>\n",
       "      <td>False</td>\n",
       "      <td>False</td>\n",
       "      <td>False</td>\n",
       "      <td>True</td>\n",
       "      <td>False</td>\n",
       "      <td>False</td>\n",
       "      <td>False</td>\n",
       "    </tr>\n",
       "    <tr>\n",
       "      <th>2</th>\n",
       "      <td>0.001176</td>\n",
       "      <td>105051</td>\n",
       "      <td>Matthew Ebden</td>\n",
       "      <td>0.520833</td>\n",
       "      <td>0.285714</td>\n",
       "      <td>105357</td>\n",
       "      <td>John Millman</td>\n",
       "      <td>0.416667</td>\n",
       "      <td>0.222222</td>\n",
       "      <td>0.090750</td>\n",
       "      <td>...</td>\n",
       "      <td>False</td>\n",
       "      <td>False</td>\n",
       "      <td>False</td>\n",
       "      <td>False</td>\n",
       "      <td>False</td>\n",
       "      <td>False</td>\n",
       "      <td>True</td>\n",
       "      <td>False</td>\n",
       "      <td>False</td>\n",
       "      <td>False</td>\n",
       "    </tr>\n",
       "    <tr>\n",
       "      <th>3</th>\n",
       "      <td>0.001765</td>\n",
       "      <td>104797</td>\n",
       "      <td>Denis Istomin</td>\n",
       "      <td>0.520833</td>\n",
       "      <td>0.327526</td>\n",
       "      <td>105217</td>\n",
       "      <td>Thiemo De Bakker</td>\n",
       "      <td>0.625000</td>\n",
       "      <td>0.244444</td>\n",
       "      <td>0.081152</td>\n",
       "      <td>...</td>\n",
       "      <td>False</td>\n",
       "      <td>False</td>\n",
       "      <td>False</td>\n",
       "      <td>False</td>\n",
       "      <td>False</td>\n",
       "      <td>False</td>\n",
       "      <td>True</td>\n",
       "      <td>False</td>\n",
       "      <td>False</td>\n",
       "      <td>False</td>\n",
       "    </tr>\n",
       "    <tr>\n",
       "      <th>4</th>\n",
       "      <td>0.002353</td>\n",
       "      <td>103888</td>\n",
       "      <td>Mardy Fish</td>\n",
       "      <td>0.520833</td>\n",
       "      <td>0.491289</td>\n",
       "      <td>105173</td>\n",
       "      <td>Adrian Mannarino</td>\n",
       "      <td>0.416667</td>\n",
       "      <td>0.253968</td>\n",
       "      <td>0.068935</td>\n",
       "      <td>...</td>\n",
       "      <td>False</td>\n",
       "      <td>False</td>\n",
       "      <td>False</td>\n",
       "      <td>False</td>\n",
       "      <td>False</td>\n",
       "      <td>False</td>\n",
       "      <td>True</td>\n",
       "      <td>False</td>\n",
       "      <td>False</td>\n",
       "      <td>False</td>\n",
       "    </tr>\n",
       "  </tbody>\n",
       "</table>\n",
       "<p>5 rows × 1309 columns</p>\n",
       "</div>"
      ]
     },
     "execution_count": 69,
     "metadata": {},
     "output_type": "execute_result"
    }
   ],
   "execution_count": 69
  },
  {
   "metadata": {
    "ExecuteTime": {
     "end_time": "2024-06-24T17:45:17.103184Z",
     "start_time": "2024-06-24T17:45:17.019351Z"
    }
   },
   "cell_type": "code",
   "source": [
    "from sklearn.model_selection import train_test_split\n",
    "from sklearn import metrics\n",
    "from sklearn.metrics import classification_report\n",
    "from sklearn.model_selection import GroupKFold\n",
    "from sklearn.model_selection import RandomizedSearchCV\n",
    "from sklearn.linear_model import LogisticRegression\n",
    "from sklearn.ensemble import RandomForestClassifier\n",
    "from sklearn.ensemble import AdaBoostClassifier\n",
    "from sklearn.neural_network import MLPRegressor\n"
   ],
   "id": "530835099d848310",
   "outputs": [],
   "execution_count": 13
  },
  {
   "metadata": {
    "ExecuteTime": {
     "end_time": "2024-06-24T18:16:09.988431Z",
     "start_time": "2024-06-24T18:16:09.797549Z"
    }
   },
   "cell_type": "code",
   "source": [
    "Y = pd.DataFrame(atp_matches['y'])\n",
    "atp_matches = atp_matches.drop(['y'], axis = 1)\n",
    "\n",
    "Y\n"
   ],
   "id": "40b182d313391e68",
   "outputs": [
    {
     "ename": "KeyError",
     "evalue": "'y'",
     "output_type": "error",
     "traceback": [
      "\u001B[1;31m---------------------------------------------------------------------------\u001B[0m",
      "\u001B[1;31mKeyError\u001B[0m                                  Traceback (most recent call last)",
      "File \u001B[1;32m~\\PycharmProjects\\Tennis Project\\.venv\\Lib\\site-packages\\pandas\\core\\indexes\\base.py:3805\u001B[0m, in \u001B[0;36mIndex.get_loc\u001B[1;34m(self, key)\u001B[0m\n\u001B[0;32m   3804\u001B[0m \u001B[38;5;28;01mtry\u001B[39;00m:\n\u001B[1;32m-> 3805\u001B[0m     \u001B[38;5;28;01mreturn\u001B[39;00m \u001B[38;5;28;43mself\u001B[39;49m\u001B[38;5;241;43m.\u001B[39;49m\u001B[43m_engine\u001B[49m\u001B[38;5;241;43m.\u001B[39;49m\u001B[43mget_loc\u001B[49m\u001B[43m(\u001B[49m\u001B[43mcasted_key\u001B[49m\u001B[43m)\u001B[49m\n\u001B[0;32m   3806\u001B[0m \u001B[38;5;28;01mexcept\u001B[39;00m \u001B[38;5;167;01mKeyError\u001B[39;00m \u001B[38;5;28;01mas\u001B[39;00m err:\n",
      "File \u001B[1;32mindex.pyx:167\u001B[0m, in \u001B[0;36mpandas._libs.index.IndexEngine.get_loc\u001B[1;34m()\u001B[0m\n",
      "File \u001B[1;32mindex.pyx:196\u001B[0m, in \u001B[0;36mpandas._libs.index.IndexEngine.get_loc\u001B[1;34m()\u001B[0m\n",
      "File \u001B[1;32mpandas\\\\_libs\\\\hashtable_class_helper.pxi:7081\u001B[0m, in \u001B[0;36mpandas._libs.hashtable.PyObjectHashTable.get_item\u001B[1;34m()\u001B[0m\n",
      "File \u001B[1;32mpandas\\\\_libs\\\\hashtable_class_helper.pxi:7089\u001B[0m, in \u001B[0;36mpandas._libs.hashtable.PyObjectHashTable.get_item\u001B[1;34m()\u001B[0m\n",
      "\u001B[1;31mKeyError\u001B[0m: 'y'",
      "\nThe above exception was the direct cause of the following exception:\n",
      "\u001B[1;31mKeyError\u001B[0m                                  Traceback (most recent call last)",
      "Cell \u001B[1;32mIn[29], line 1\u001B[0m\n\u001B[1;32m----> 1\u001B[0m Y \u001B[38;5;241m=\u001B[39m pd\u001B[38;5;241m.\u001B[39mDataFrame(\u001B[43matp_matches\u001B[49m\u001B[43m[\u001B[49m\u001B[38;5;124;43m'\u001B[39;49m\u001B[38;5;124;43my\u001B[39;49m\u001B[38;5;124;43m'\u001B[39;49m\u001B[43m]\u001B[49m)\n\u001B[0;32m      2\u001B[0m atp_matches \u001B[38;5;241m=\u001B[39m atp_matches\u001B[38;5;241m.\u001B[39mdrop([\u001B[38;5;124m'\u001B[39m\u001B[38;5;124my\u001B[39m\u001B[38;5;124m'\u001B[39m], axis \u001B[38;5;241m=\u001B[39m \u001B[38;5;241m1\u001B[39m)\n\u001B[0;32m      4\u001B[0m Y\n",
      "File \u001B[1;32m~\\PycharmProjects\\Tennis Project\\.venv\\Lib\\site-packages\\pandas\\core\\frame.py:4102\u001B[0m, in \u001B[0;36mDataFrame.__getitem__\u001B[1;34m(self, key)\u001B[0m\n\u001B[0;32m   4100\u001B[0m \u001B[38;5;28;01mif\u001B[39;00m \u001B[38;5;28mself\u001B[39m\u001B[38;5;241m.\u001B[39mcolumns\u001B[38;5;241m.\u001B[39mnlevels \u001B[38;5;241m>\u001B[39m \u001B[38;5;241m1\u001B[39m:\n\u001B[0;32m   4101\u001B[0m     \u001B[38;5;28;01mreturn\u001B[39;00m \u001B[38;5;28mself\u001B[39m\u001B[38;5;241m.\u001B[39m_getitem_multilevel(key)\n\u001B[1;32m-> 4102\u001B[0m indexer \u001B[38;5;241m=\u001B[39m \u001B[38;5;28;43mself\u001B[39;49m\u001B[38;5;241;43m.\u001B[39;49m\u001B[43mcolumns\u001B[49m\u001B[38;5;241;43m.\u001B[39;49m\u001B[43mget_loc\u001B[49m\u001B[43m(\u001B[49m\u001B[43mkey\u001B[49m\u001B[43m)\u001B[49m\n\u001B[0;32m   4103\u001B[0m \u001B[38;5;28;01mif\u001B[39;00m is_integer(indexer):\n\u001B[0;32m   4104\u001B[0m     indexer \u001B[38;5;241m=\u001B[39m [indexer]\n",
      "File \u001B[1;32m~\\PycharmProjects\\Tennis Project\\.venv\\Lib\\site-packages\\pandas\\core\\indexes\\base.py:3812\u001B[0m, in \u001B[0;36mIndex.get_loc\u001B[1;34m(self, key)\u001B[0m\n\u001B[0;32m   3807\u001B[0m     \u001B[38;5;28;01mif\u001B[39;00m \u001B[38;5;28misinstance\u001B[39m(casted_key, \u001B[38;5;28mslice\u001B[39m) \u001B[38;5;129;01mor\u001B[39;00m (\n\u001B[0;32m   3808\u001B[0m         \u001B[38;5;28misinstance\u001B[39m(casted_key, abc\u001B[38;5;241m.\u001B[39mIterable)\n\u001B[0;32m   3809\u001B[0m         \u001B[38;5;129;01mand\u001B[39;00m \u001B[38;5;28many\u001B[39m(\u001B[38;5;28misinstance\u001B[39m(x, \u001B[38;5;28mslice\u001B[39m) \u001B[38;5;28;01mfor\u001B[39;00m x \u001B[38;5;129;01min\u001B[39;00m casted_key)\n\u001B[0;32m   3810\u001B[0m     ):\n\u001B[0;32m   3811\u001B[0m         \u001B[38;5;28;01mraise\u001B[39;00m InvalidIndexError(key)\n\u001B[1;32m-> 3812\u001B[0m     \u001B[38;5;28;01mraise\u001B[39;00m \u001B[38;5;167;01mKeyError\u001B[39;00m(key) \u001B[38;5;28;01mfrom\u001B[39;00m \u001B[38;5;21;01merr\u001B[39;00m\n\u001B[0;32m   3813\u001B[0m \u001B[38;5;28;01mexcept\u001B[39;00m \u001B[38;5;167;01mTypeError\u001B[39;00m:\n\u001B[0;32m   3814\u001B[0m     \u001B[38;5;66;03m# If we have a listlike key, _check_indexing_error will raise\u001B[39;00m\n\u001B[0;32m   3815\u001B[0m     \u001B[38;5;66;03m#  InvalidIndexError. Otherwise we fall through and re-raise\u001B[39;00m\n\u001B[0;32m   3816\u001B[0m     \u001B[38;5;66;03m#  the TypeError.\u001B[39;00m\n\u001B[0;32m   3817\u001B[0m     \u001B[38;5;28mself\u001B[39m\u001B[38;5;241m.\u001B[39m_check_indexing_error(key)\n",
      "\u001B[1;31mKeyError\u001B[0m: 'y'"
     ]
    }
   ],
   "execution_count": 29
  },
  {
   "metadata": {
    "ExecuteTime": {
     "end_time": "2024-06-24T17:45:19.735412Z",
     "start_time": "2024-06-24T17:45:19.565517Z"
    }
   },
   "cell_type": "code",
   "source": [
    "X = atp_matches\n",
    "X_train, X_test, Y_train, Y_test = train_test_split(X, Y, test_size=0.2, random_state=42)\n"
   ],
   "id": "e463c4a6738b318b",
   "outputs": [],
   "execution_count": 15
  },
  {
   "metadata": {
    "ExecuteTime": {
     "end_time": "2024-06-24T17:45:20.599359Z",
     "start_time": "2024-06-24T17:45:20.422495Z"
    }
   },
   "cell_type": "code",
   "source": [
    "X_train = X_train.drop(['winner_id'], axis=1)\n",
    "X_train = X_train.drop(['winner_name'], axis=1)\n",
    "X_train = X_train.drop(['loser_id'], axis=1)\n",
    "X_train = X_train.drop(['loser_name'], axis=1)\n"
   ],
   "id": "55d1d1c4ac5272e6",
   "outputs": [],
   "execution_count": 16
  },
  {
   "metadata": {
    "ExecuteTime": {
     "end_time": "2024-06-24T17:45:22.683302Z",
     "start_time": "2024-06-24T17:45:21.144492Z"
    }
   },
   "cell_type": "code",
   "source": [
    "test_names = []\n",
    "for index, row in X_test.iterrows():\n",
    "    v = [row['winner_name'], row['loser_name']]\n",
    "    test_names.append(v)\n",
    "test_names = pd.Series(test_names)"
   ],
   "id": "caf4cf11068d22c4",
   "outputs": [],
   "execution_count": 17
  },
  {
   "metadata": {
    "ExecuteTime": {
     "end_time": "2024-06-24T17:45:23.022779Z",
     "start_time": "2024-06-24T17:45:22.978262Z"
    }
   },
   "cell_type": "code",
   "source": [
    "X_test = X_test.drop(['winner_id'], axis=1)\n",
    "X_test = X_test.drop(['winner_name'], axis=1)\n",
    "X_test = X_test.drop(['loser_id'], axis=1)\n",
    "X_test = X_test.drop(['loser_name'], axis=1)"
   ],
   "id": "be9d4ce0ebf9f6fd",
   "outputs": [],
   "execution_count": 18
  },
  {
   "metadata": {
    "ExecuteTime": {
     "end_time": "2024-06-24T17:55:46.624414Z",
     "start_time": "2024-06-24T17:45:28.372912Z"
    }
   },
   "cell_type": "code",
   "source": [
    "from sklearn.linear_model import LogisticRegression\n",
    "model = LogisticRegression()\n",
    "\n",
    "parametric_grid = {\n",
    "    'C' : np.logspace(0.0, 4.0, num = 10),\n",
    "    'penalty' : ['l1'],  'solver' :['liblinear', 'sag'],\n",
    "    'penalty' : ['l2'],  'solver' : ['sag']\n",
    "}\n",
    "search = RandomizedSearchCV(model, parametric_grid, n_iter=5, cv=10, scoring='accuracy', n_jobs=-1, random_state=1)\n",
    "\n",
    "result = search.fit(X_train, Y_train)\n",
    "print('Best Score: %s' %result.best_score_)\n",
    "print('Best Hyperparameters: %s' %result.best_params_)"
   ],
   "id": "c7fe9068c6fe3e16",
   "outputs": [
    {
     "name": "stdout",
     "output_type": "stream",
     "text": [
      "Best Score: 0.9024581088923804\n",
      "Best Hyperparameters: {'solver': 'sag', 'penalty': 'l2', 'C': 10000.0}\n"
     ]
    }
   ],
   "execution_count": 19
  },
  {
   "metadata": {
    "ExecuteTime": {
     "end_time": "2024-06-24T16:45:59.736655Z",
     "start_time": "2024-06-24T16:45:59.609034Z"
    }
   },
   "cell_type": "code",
   "source": [
    "best_random = result.best_estimator_\n",
    "y_pred_test = best_random.predict(X_test)\n",
    "print(classification_report(Y_test, y_pred_test))"
   ],
   "id": "5dab049cb0a993cd",
   "outputs": [
    {
     "name": "stdout",
     "output_type": "stream",
     "text": [
      "              precision    recall  f1-score   support\n",
      "\n",
      "           0       0.96      0.85      0.90      3775\n",
      "           1       0.86      0.97      0.91      3802\n",
      "\n",
      "    accuracy                           0.91      7577\n",
      "   macro avg       0.91      0.91      0.91      7577\n",
      "weighted avg       0.91      0.91      0.91      7577\n",
      "\n"
     ]
    }
   ],
   "execution_count": 50
  },
  {
   "metadata": {
    "ExecuteTime": {
     "end_time": "2024-06-24T18:07:42.247677Z",
     "start_time": "2024-06-24T18:07:42.169426Z"
    }
   },
   "cell_type": "code",
   "source": [
    "Y = convertCatToNum(Y)\n",
    "model.fit(Y, atp_matches)\n",
    "\n",
    "v =  [row['Novak Djokovic'], row['Carlos Alcaraz']]\n",
    "features = np.array([[v]])\n",
    "model.predict(features)"
   ],
   "id": "d21beb29b1c49002",
   "outputs": [
    {
     "ename": "KeyError",
     "evalue": "\"None of [Index(['tourney_name', 'surface', 'draw_size', 'tourney_level', 'winner_entry',\\n       'winner_hand', 'winner_ioc', 'loser_entry', 'loser_hand', 'loser_ioc',\\n       'best_of', 'round'],\\n      dtype='object')] are in the [columns]\"",
     "output_type": "error",
     "traceback": [
      "\u001B[1;31m---------------------------------------------------------------------------\u001B[0m",
      "\u001B[1;31mKeyError\u001B[0m                                  Traceback (most recent call last)",
      "Cell \u001B[1;32mIn[27], line 1\u001B[0m\n\u001B[1;32m----> 1\u001B[0m Y \u001B[38;5;241m=\u001B[39m \u001B[43mconvertCatToNum\u001B[49m\u001B[43m(\u001B[49m\u001B[43mY\u001B[49m\u001B[43m)\u001B[49m\n\u001B[0;32m      2\u001B[0m model\u001B[38;5;241m.\u001B[39mfit(Y, atp_matches)\n\u001B[0;32m      4\u001B[0m v \u001B[38;5;241m=\u001B[39m  [row[\u001B[38;5;124m'\u001B[39m\u001B[38;5;124mNovak Djokovic\u001B[39m\u001B[38;5;124m'\u001B[39m], row[\u001B[38;5;124m'\u001B[39m\u001B[38;5;124mCarlos Alcaraz\u001B[39m\u001B[38;5;124m'\u001B[39m]]\n",
      "Cell \u001B[1;32mIn[9], line 2\u001B[0m, in \u001B[0;36mconvertCatToNum\u001B[1;34m(dff)\u001B[0m\n\u001B[0;32m      1\u001B[0m \u001B[38;5;28;01mdef\u001B[39;00m \u001B[38;5;21mconvertCatToNum\u001B[39m(dff):\n\u001B[1;32m----> 2\u001B[0m     atp_matches_new \u001B[38;5;241m=\u001B[39m \u001B[43mpd\u001B[49m\u001B[38;5;241;43m.\u001B[39;49m\u001B[43mget_dummies\u001B[49m\u001B[43m(\u001B[49m\u001B[43mdff\u001B[49m\u001B[43m,\u001B[49m\u001B[43m \u001B[49m\u001B[43mcolumns\u001B[49m\u001B[38;5;241;43m=\u001B[39;49m\u001B[43mcat_cols\u001B[49m\u001B[43m)\u001B[49m\n\u001B[0;32m      3\u001B[0m     \u001B[38;5;28;01mreturn\u001B[39;00m atp_matches_new\n",
      "File \u001B[1;32m~\\PycharmProjects\\Tennis Project\\.venv\\Lib\\site-packages\\pandas\\core\\reshape\\encoding.py:169\u001B[0m, in \u001B[0;36mget_dummies\u001B[1;34m(data, prefix, prefix_sep, dummy_na, columns, sparse, drop_first, dtype)\u001B[0m\n\u001B[0;32m    167\u001B[0m     \u001B[38;5;28;01mraise\u001B[39;00m \u001B[38;5;167;01mTypeError\u001B[39;00m(\u001B[38;5;124m\"\u001B[39m\u001B[38;5;124mInput must be a list-like for parameter `columns`\u001B[39m\u001B[38;5;124m\"\u001B[39m)\n\u001B[0;32m    168\u001B[0m \u001B[38;5;28;01melse\u001B[39;00m:\n\u001B[1;32m--> 169\u001B[0m     data_to_encode \u001B[38;5;241m=\u001B[39m \u001B[43mdata\u001B[49m\u001B[43m[\u001B[49m\u001B[43mcolumns\u001B[49m\u001B[43m]\u001B[49m\n\u001B[0;32m    171\u001B[0m \u001B[38;5;66;03m# validate prefixes and separator to avoid silently dropping cols\u001B[39;00m\n\u001B[0;32m    172\u001B[0m \u001B[38;5;28;01mdef\u001B[39;00m \u001B[38;5;21mcheck_len\u001B[39m(item, name: \u001B[38;5;28mstr\u001B[39m):\n",
      "File \u001B[1;32m~\\PycharmProjects\\Tennis Project\\.venv\\Lib\\site-packages\\pandas\\core\\frame.py:4108\u001B[0m, in \u001B[0;36mDataFrame.__getitem__\u001B[1;34m(self, key)\u001B[0m\n\u001B[0;32m   4106\u001B[0m     \u001B[38;5;28;01mif\u001B[39;00m is_iterator(key):\n\u001B[0;32m   4107\u001B[0m         key \u001B[38;5;241m=\u001B[39m \u001B[38;5;28mlist\u001B[39m(key)\n\u001B[1;32m-> 4108\u001B[0m     indexer \u001B[38;5;241m=\u001B[39m \u001B[38;5;28;43mself\u001B[39;49m\u001B[38;5;241;43m.\u001B[39;49m\u001B[43mcolumns\u001B[49m\u001B[38;5;241;43m.\u001B[39;49m\u001B[43m_get_indexer_strict\u001B[49m\u001B[43m(\u001B[49m\u001B[43mkey\u001B[49m\u001B[43m,\u001B[49m\u001B[43m \u001B[49m\u001B[38;5;124;43m\"\u001B[39;49m\u001B[38;5;124;43mcolumns\u001B[39;49m\u001B[38;5;124;43m\"\u001B[39;49m\u001B[43m)\u001B[49m[\u001B[38;5;241m1\u001B[39m]\n\u001B[0;32m   4110\u001B[0m \u001B[38;5;66;03m# take() does not accept boolean indexers\u001B[39;00m\n\u001B[0;32m   4111\u001B[0m \u001B[38;5;28;01mif\u001B[39;00m \u001B[38;5;28mgetattr\u001B[39m(indexer, \u001B[38;5;124m\"\u001B[39m\u001B[38;5;124mdtype\u001B[39m\u001B[38;5;124m\"\u001B[39m, \u001B[38;5;28;01mNone\u001B[39;00m) \u001B[38;5;241m==\u001B[39m \u001B[38;5;28mbool\u001B[39m:\n",
      "File \u001B[1;32m~\\PycharmProjects\\Tennis Project\\.venv\\Lib\\site-packages\\pandas\\core\\indexes\\base.py:6200\u001B[0m, in \u001B[0;36mIndex._get_indexer_strict\u001B[1;34m(self, key, axis_name)\u001B[0m\n\u001B[0;32m   6197\u001B[0m \u001B[38;5;28;01melse\u001B[39;00m:\n\u001B[0;32m   6198\u001B[0m     keyarr, indexer, new_indexer \u001B[38;5;241m=\u001B[39m \u001B[38;5;28mself\u001B[39m\u001B[38;5;241m.\u001B[39m_reindex_non_unique(keyarr)\n\u001B[1;32m-> 6200\u001B[0m \u001B[38;5;28;43mself\u001B[39;49m\u001B[38;5;241;43m.\u001B[39;49m\u001B[43m_raise_if_missing\u001B[49m\u001B[43m(\u001B[49m\u001B[43mkeyarr\u001B[49m\u001B[43m,\u001B[49m\u001B[43m \u001B[49m\u001B[43mindexer\u001B[49m\u001B[43m,\u001B[49m\u001B[43m \u001B[49m\u001B[43maxis_name\u001B[49m\u001B[43m)\u001B[49m\n\u001B[0;32m   6202\u001B[0m keyarr \u001B[38;5;241m=\u001B[39m \u001B[38;5;28mself\u001B[39m\u001B[38;5;241m.\u001B[39mtake(indexer)\n\u001B[0;32m   6203\u001B[0m \u001B[38;5;28;01mif\u001B[39;00m \u001B[38;5;28misinstance\u001B[39m(key, Index):\n\u001B[0;32m   6204\u001B[0m     \u001B[38;5;66;03m# GH 42790 - Preserve name from an Index\u001B[39;00m\n",
      "File \u001B[1;32m~\\PycharmProjects\\Tennis Project\\.venv\\Lib\\site-packages\\pandas\\core\\indexes\\base.py:6249\u001B[0m, in \u001B[0;36mIndex._raise_if_missing\u001B[1;34m(self, key, indexer, axis_name)\u001B[0m\n\u001B[0;32m   6247\u001B[0m \u001B[38;5;28;01mif\u001B[39;00m nmissing:\n\u001B[0;32m   6248\u001B[0m     \u001B[38;5;28;01mif\u001B[39;00m nmissing \u001B[38;5;241m==\u001B[39m \u001B[38;5;28mlen\u001B[39m(indexer):\n\u001B[1;32m-> 6249\u001B[0m         \u001B[38;5;28;01mraise\u001B[39;00m \u001B[38;5;167;01mKeyError\u001B[39;00m(\u001B[38;5;124mf\u001B[39m\u001B[38;5;124m\"\u001B[39m\u001B[38;5;124mNone of [\u001B[39m\u001B[38;5;132;01m{\u001B[39;00mkey\u001B[38;5;132;01m}\u001B[39;00m\u001B[38;5;124m] are in the [\u001B[39m\u001B[38;5;132;01m{\u001B[39;00maxis_name\u001B[38;5;132;01m}\u001B[39;00m\u001B[38;5;124m]\u001B[39m\u001B[38;5;124m\"\u001B[39m)\n\u001B[0;32m   6251\u001B[0m     not_found \u001B[38;5;241m=\u001B[39m \u001B[38;5;28mlist\u001B[39m(ensure_index(key)[missing_mask\u001B[38;5;241m.\u001B[39mnonzero()[\u001B[38;5;241m0\u001B[39m]]\u001B[38;5;241m.\u001B[39munique())\n\u001B[0;32m   6252\u001B[0m     \u001B[38;5;28;01mraise\u001B[39;00m \u001B[38;5;167;01mKeyError\u001B[39;00m(\u001B[38;5;124mf\u001B[39m\u001B[38;5;124m\"\u001B[39m\u001B[38;5;132;01m{\u001B[39;00mnot_found\u001B[38;5;132;01m}\u001B[39;00m\u001B[38;5;124m not in index\u001B[39m\u001B[38;5;124m\"\u001B[39m)\n",
      "\u001B[1;31mKeyError\u001B[0m: \"None of [Index(['tourney_name', 'surface', 'draw_size', 'tourney_level', 'winner_entry',\\n       'winner_hand', 'winner_ioc', 'loser_entry', 'loser_hand', 'loser_ioc',\\n       'best_of', 'round'],\\n      dtype='object')] are in the [columns]\""
     ]
    }
   ],
   "execution_count": 27
  },
  {
   "metadata": {
    "ExecuteTime": {
     "end_time": "2024-06-24T18:10:04.094680Z",
     "start_time": "2024-06-24T18:10:04.040180Z"
    }
   },
   "cell_type": "code",
   "source": "result",
   "id": "16c1dec6d9d8b172",
   "outputs": [
    {
     "data": {
      "text/plain": [
       "RandomizedSearchCV(cv=10, estimator=LogisticRegression(), n_iter=5, n_jobs=-1,\n",
       "                   param_distributions={'C': array([1.00000000e+00, 2.78255940e+00, 7.74263683e+00, 2.15443469e+01,\n",
       "       5.99484250e+01, 1.66810054e+02, 4.64158883e+02, 1.29154967e+03,\n",
       "       3.59381366e+03, 1.00000000e+04]),\n",
       "                                        'penalty': ['l2'], 'solver': ['sag']},\n",
       "                   random_state=1, scoring='accuracy')"
      ],
      "text/html": [
       "<style>#sk-container-id-1 {\n",
       "  /* Definition of color scheme common for light and dark mode */\n",
       "  --sklearn-color-text: black;\n",
       "  --sklearn-color-line: gray;\n",
       "  /* Definition of color scheme for unfitted estimators */\n",
       "  --sklearn-color-unfitted-level-0: #fff5e6;\n",
       "  --sklearn-color-unfitted-level-1: #f6e4d2;\n",
       "  --sklearn-color-unfitted-level-2: #ffe0b3;\n",
       "  --sklearn-color-unfitted-level-3: chocolate;\n",
       "  /* Definition of color scheme for fitted estimators */\n",
       "  --sklearn-color-fitted-level-0: #f0f8ff;\n",
       "  --sklearn-color-fitted-level-1: #d4ebff;\n",
       "  --sklearn-color-fitted-level-2: #b3dbfd;\n",
       "  --sklearn-color-fitted-level-3: cornflowerblue;\n",
       "\n",
       "  /* Specific color for light theme */\n",
       "  --sklearn-color-text-on-default-background: var(--sg-text-color, var(--theme-code-foreground, var(--jp-content-font-color1, black)));\n",
       "  --sklearn-color-background: var(--sg-background-color, var(--theme-background, var(--jp-layout-color0, white)));\n",
       "  --sklearn-color-border-box: var(--sg-text-color, var(--theme-code-foreground, var(--jp-content-font-color1, black)));\n",
       "  --sklearn-color-icon: #696969;\n",
       "\n",
       "  @media (prefers-color-scheme: dark) {\n",
       "    /* Redefinition of color scheme for dark theme */\n",
       "    --sklearn-color-text-on-default-background: var(--sg-text-color, var(--theme-code-foreground, var(--jp-content-font-color1, white)));\n",
       "    --sklearn-color-background: var(--sg-background-color, var(--theme-background, var(--jp-layout-color0, #111)));\n",
       "    --sklearn-color-border-box: var(--sg-text-color, var(--theme-code-foreground, var(--jp-content-font-color1, white)));\n",
       "    --sklearn-color-icon: #878787;\n",
       "  }\n",
       "}\n",
       "\n",
       "#sk-container-id-1 {\n",
       "  color: var(--sklearn-color-text);\n",
       "}\n",
       "\n",
       "#sk-container-id-1 pre {\n",
       "  padding: 0;\n",
       "}\n",
       "\n",
       "#sk-container-id-1 input.sk-hidden--visually {\n",
       "  border: 0;\n",
       "  clip: rect(1px 1px 1px 1px);\n",
       "  clip: rect(1px, 1px, 1px, 1px);\n",
       "  height: 1px;\n",
       "  margin: -1px;\n",
       "  overflow: hidden;\n",
       "  padding: 0;\n",
       "  position: absolute;\n",
       "  width: 1px;\n",
       "}\n",
       "\n",
       "#sk-container-id-1 div.sk-dashed-wrapped {\n",
       "  border: 1px dashed var(--sklearn-color-line);\n",
       "  margin: 0 0.4em 0.5em 0.4em;\n",
       "  box-sizing: border-box;\n",
       "  padding-bottom: 0.4em;\n",
       "  background-color: var(--sklearn-color-background);\n",
       "}\n",
       "\n",
       "#sk-container-id-1 div.sk-container {\n",
       "  /* jupyter's `normalize.less` sets `[hidden] { display: none; }`\n",
       "     but bootstrap.min.css set `[hidden] { display: none !important; }`\n",
       "     so we also need the `!important` here to be able to override the\n",
       "     default hidden behavior on the sphinx rendered scikit-learn.org.\n",
       "     See: https://github.com/scikit-learn/scikit-learn/issues/21755 */\n",
       "  display: inline-block !important;\n",
       "  position: relative;\n",
       "}\n",
       "\n",
       "#sk-container-id-1 div.sk-text-repr-fallback {\n",
       "  display: none;\n",
       "}\n",
       "\n",
       "div.sk-parallel-item,\n",
       "div.sk-serial,\n",
       "div.sk-item {\n",
       "  /* draw centered vertical line to link estimators */\n",
       "  background-image: linear-gradient(var(--sklearn-color-text-on-default-background), var(--sklearn-color-text-on-default-background));\n",
       "  background-size: 2px 100%;\n",
       "  background-repeat: no-repeat;\n",
       "  background-position: center center;\n",
       "}\n",
       "\n",
       "/* Parallel-specific style estimator block */\n",
       "\n",
       "#sk-container-id-1 div.sk-parallel-item::after {\n",
       "  content: \"\";\n",
       "  width: 100%;\n",
       "  border-bottom: 2px solid var(--sklearn-color-text-on-default-background);\n",
       "  flex-grow: 1;\n",
       "}\n",
       "\n",
       "#sk-container-id-1 div.sk-parallel {\n",
       "  display: flex;\n",
       "  align-items: stretch;\n",
       "  justify-content: center;\n",
       "  background-color: var(--sklearn-color-background);\n",
       "  position: relative;\n",
       "}\n",
       "\n",
       "#sk-container-id-1 div.sk-parallel-item {\n",
       "  display: flex;\n",
       "  flex-direction: column;\n",
       "}\n",
       "\n",
       "#sk-container-id-1 div.sk-parallel-item:first-child::after {\n",
       "  align-self: flex-end;\n",
       "  width: 50%;\n",
       "}\n",
       "\n",
       "#sk-container-id-1 div.sk-parallel-item:last-child::after {\n",
       "  align-self: flex-start;\n",
       "  width: 50%;\n",
       "}\n",
       "\n",
       "#sk-container-id-1 div.sk-parallel-item:only-child::after {\n",
       "  width: 0;\n",
       "}\n",
       "\n",
       "/* Serial-specific style estimator block */\n",
       "\n",
       "#sk-container-id-1 div.sk-serial {\n",
       "  display: flex;\n",
       "  flex-direction: column;\n",
       "  align-items: center;\n",
       "  background-color: var(--sklearn-color-background);\n",
       "  padding-right: 1em;\n",
       "  padding-left: 1em;\n",
       "}\n",
       "\n",
       "\n",
       "/* Toggleable style: style used for estimator/Pipeline/ColumnTransformer box that is\n",
       "clickable and can be expanded/collapsed.\n",
       "- Pipeline and ColumnTransformer use this feature and define the default style\n",
       "- Estimators will overwrite some part of the style using the `sk-estimator` class\n",
       "*/\n",
       "\n",
       "/* Pipeline and ColumnTransformer style (default) */\n",
       "\n",
       "#sk-container-id-1 div.sk-toggleable {\n",
       "  /* Default theme specific background. It is overwritten whether we have a\n",
       "  specific estimator or a Pipeline/ColumnTransformer */\n",
       "  background-color: var(--sklearn-color-background);\n",
       "}\n",
       "\n",
       "/* Toggleable label */\n",
       "#sk-container-id-1 label.sk-toggleable__label {\n",
       "  cursor: pointer;\n",
       "  display: block;\n",
       "  width: 100%;\n",
       "  margin-bottom: 0;\n",
       "  padding: 0.5em;\n",
       "  box-sizing: border-box;\n",
       "  text-align: center;\n",
       "}\n",
       "\n",
       "#sk-container-id-1 label.sk-toggleable__label-arrow:before {\n",
       "  /* Arrow on the left of the label */\n",
       "  content: \"▸\";\n",
       "  float: left;\n",
       "  margin-right: 0.25em;\n",
       "  color: var(--sklearn-color-icon);\n",
       "}\n",
       "\n",
       "#sk-container-id-1 label.sk-toggleable__label-arrow:hover:before {\n",
       "  color: var(--sklearn-color-text);\n",
       "}\n",
       "\n",
       "/* Toggleable content - dropdown */\n",
       "\n",
       "#sk-container-id-1 div.sk-toggleable__content {\n",
       "  max-height: 0;\n",
       "  max-width: 0;\n",
       "  overflow: hidden;\n",
       "  text-align: left;\n",
       "  /* unfitted */\n",
       "  background-color: var(--sklearn-color-unfitted-level-0);\n",
       "}\n",
       "\n",
       "#sk-container-id-1 div.sk-toggleable__content.fitted {\n",
       "  /* fitted */\n",
       "  background-color: var(--sklearn-color-fitted-level-0);\n",
       "}\n",
       "\n",
       "#sk-container-id-1 div.sk-toggleable__content pre {\n",
       "  margin: 0.2em;\n",
       "  border-radius: 0.25em;\n",
       "  color: var(--sklearn-color-text);\n",
       "  /* unfitted */\n",
       "  background-color: var(--sklearn-color-unfitted-level-0);\n",
       "}\n",
       "\n",
       "#sk-container-id-1 div.sk-toggleable__content.fitted pre {\n",
       "  /* unfitted */\n",
       "  background-color: var(--sklearn-color-fitted-level-0);\n",
       "}\n",
       "\n",
       "#sk-container-id-1 input.sk-toggleable__control:checked~div.sk-toggleable__content {\n",
       "  /* Expand drop-down */\n",
       "  max-height: 200px;\n",
       "  max-width: 100%;\n",
       "  overflow: auto;\n",
       "}\n",
       "\n",
       "#sk-container-id-1 input.sk-toggleable__control:checked~label.sk-toggleable__label-arrow:before {\n",
       "  content: \"▾\";\n",
       "}\n",
       "\n",
       "/* Pipeline/ColumnTransformer-specific style */\n",
       "\n",
       "#sk-container-id-1 div.sk-label input.sk-toggleable__control:checked~label.sk-toggleable__label {\n",
       "  color: var(--sklearn-color-text);\n",
       "  background-color: var(--sklearn-color-unfitted-level-2);\n",
       "}\n",
       "\n",
       "#sk-container-id-1 div.sk-label.fitted input.sk-toggleable__control:checked~label.sk-toggleable__label {\n",
       "  background-color: var(--sklearn-color-fitted-level-2);\n",
       "}\n",
       "\n",
       "/* Estimator-specific style */\n",
       "\n",
       "/* Colorize estimator box */\n",
       "#sk-container-id-1 div.sk-estimator input.sk-toggleable__control:checked~label.sk-toggleable__label {\n",
       "  /* unfitted */\n",
       "  background-color: var(--sklearn-color-unfitted-level-2);\n",
       "}\n",
       "\n",
       "#sk-container-id-1 div.sk-estimator.fitted input.sk-toggleable__control:checked~label.sk-toggleable__label {\n",
       "  /* fitted */\n",
       "  background-color: var(--sklearn-color-fitted-level-2);\n",
       "}\n",
       "\n",
       "#sk-container-id-1 div.sk-label label.sk-toggleable__label,\n",
       "#sk-container-id-1 div.sk-label label {\n",
       "  /* The background is the default theme color */\n",
       "  color: var(--sklearn-color-text-on-default-background);\n",
       "}\n",
       "\n",
       "/* On hover, darken the color of the background */\n",
       "#sk-container-id-1 div.sk-label:hover label.sk-toggleable__label {\n",
       "  color: var(--sklearn-color-text);\n",
       "  background-color: var(--sklearn-color-unfitted-level-2);\n",
       "}\n",
       "\n",
       "/* Label box, darken color on hover, fitted */\n",
       "#sk-container-id-1 div.sk-label.fitted:hover label.sk-toggleable__label.fitted {\n",
       "  color: var(--sklearn-color-text);\n",
       "  background-color: var(--sklearn-color-fitted-level-2);\n",
       "}\n",
       "\n",
       "/* Estimator label */\n",
       "\n",
       "#sk-container-id-1 div.sk-label label {\n",
       "  font-family: monospace;\n",
       "  font-weight: bold;\n",
       "  display: inline-block;\n",
       "  line-height: 1.2em;\n",
       "}\n",
       "\n",
       "#sk-container-id-1 div.sk-label-container {\n",
       "  text-align: center;\n",
       "}\n",
       "\n",
       "/* Estimator-specific */\n",
       "#sk-container-id-1 div.sk-estimator {\n",
       "  font-family: monospace;\n",
       "  border: 1px dotted var(--sklearn-color-border-box);\n",
       "  border-radius: 0.25em;\n",
       "  box-sizing: border-box;\n",
       "  margin-bottom: 0.5em;\n",
       "  /* unfitted */\n",
       "  background-color: var(--sklearn-color-unfitted-level-0);\n",
       "}\n",
       "\n",
       "#sk-container-id-1 div.sk-estimator.fitted {\n",
       "  /* fitted */\n",
       "  background-color: var(--sklearn-color-fitted-level-0);\n",
       "}\n",
       "\n",
       "/* on hover */\n",
       "#sk-container-id-1 div.sk-estimator:hover {\n",
       "  /* unfitted */\n",
       "  background-color: var(--sklearn-color-unfitted-level-2);\n",
       "}\n",
       "\n",
       "#sk-container-id-1 div.sk-estimator.fitted:hover {\n",
       "  /* fitted */\n",
       "  background-color: var(--sklearn-color-fitted-level-2);\n",
       "}\n",
       "\n",
       "/* Specification for estimator info (e.g. \"i\" and \"?\") */\n",
       "\n",
       "/* Common style for \"i\" and \"?\" */\n",
       "\n",
       ".sk-estimator-doc-link,\n",
       "a:link.sk-estimator-doc-link,\n",
       "a:visited.sk-estimator-doc-link {\n",
       "  float: right;\n",
       "  font-size: smaller;\n",
       "  line-height: 1em;\n",
       "  font-family: monospace;\n",
       "  background-color: var(--sklearn-color-background);\n",
       "  border-radius: 1em;\n",
       "  height: 1em;\n",
       "  width: 1em;\n",
       "  text-decoration: none !important;\n",
       "  margin-left: 1ex;\n",
       "  /* unfitted */\n",
       "  border: var(--sklearn-color-unfitted-level-1) 1pt solid;\n",
       "  color: var(--sklearn-color-unfitted-level-1);\n",
       "}\n",
       "\n",
       ".sk-estimator-doc-link.fitted,\n",
       "a:link.sk-estimator-doc-link.fitted,\n",
       "a:visited.sk-estimator-doc-link.fitted {\n",
       "  /* fitted */\n",
       "  border: var(--sklearn-color-fitted-level-1) 1pt solid;\n",
       "  color: var(--sklearn-color-fitted-level-1);\n",
       "}\n",
       "\n",
       "/* On hover */\n",
       "div.sk-estimator:hover .sk-estimator-doc-link:hover,\n",
       ".sk-estimator-doc-link:hover,\n",
       "div.sk-label-container:hover .sk-estimator-doc-link:hover,\n",
       ".sk-estimator-doc-link:hover {\n",
       "  /* unfitted */\n",
       "  background-color: var(--sklearn-color-unfitted-level-3);\n",
       "  color: var(--sklearn-color-background);\n",
       "  text-decoration: none;\n",
       "}\n",
       "\n",
       "div.sk-estimator.fitted:hover .sk-estimator-doc-link.fitted:hover,\n",
       ".sk-estimator-doc-link.fitted:hover,\n",
       "div.sk-label-container:hover .sk-estimator-doc-link.fitted:hover,\n",
       ".sk-estimator-doc-link.fitted:hover {\n",
       "  /* fitted */\n",
       "  background-color: var(--sklearn-color-fitted-level-3);\n",
       "  color: var(--sklearn-color-background);\n",
       "  text-decoration: none;\n",
       "}\n",
       "\n",
       "/* Span, style for the box shown on hovering the info icon */\n",
       ".sk-estimator-doc-link span {\n",
       "  display: none;\n",
       "  z-index: 9999;\n",
       "  position: relative;\n",
       "  font-weight: normal;\n",
       "  right: .2ex;\n",
       "  padding: .5ex;\n",
       "  margin: .5ex;\n",
       "  width: min-content;\n",
       "  min-width: 20ex;\n",
       "  max-width: 50ex;\n",
       "  color: var(--sklearn-color-text);\n",
       "  box-shadow: 2pt 2pt 4pt #999;\n",
       "  /* unfitted */\n",
       "  background: var(--sklearn-color-unfitted-level-0);\n",
       "  border: .5pt solid var(--sklearn-color-unfitted-level-3);\n",
       "}\n",
       "\n",
       ".sk-estimator-doc-link.fitted span {\n",
       "  /* fitted */\n",
       "  background: var(--sklearn-color-fitted-level-0);\n",
       "  border: var(--sklearn-color-fitted-level-3);\n",
       "}\n",
       "\n",
       ".sk-estimator-doc-link:hover span {\n",
       "  display: block;\n",
       "}\n",
       "\n",
       "/* \"?\"-specific style due to the `<a>` HTML tag */\n",
       "\n",
       "#sk-container-id-1 a.estimator_doc_link {\n",
       "  float: right;\n",
       "  font-size: 1rem;\n",
       "  line-height: 1em;\n",
       "  font-family: monospace;\n",
       "  background-color: var(--sklearn-color-background);\n",
       "  border-radius: 1rem;\n",
       "  height: 1rem;\n",
       "  width: 1rem;\n",
       "  text-decoration: none;\n",
       "  /* unfitted */\n",
       "  color: var(--sklearn-color-unfitted-level-1);\n",
       "  border: var(--sklearn-color-unfitted-level-1) 1pt solid;\n",
       "}\n",
       "\n",
       "#sk-container-id-1 a.estimator_doc_link.fitted {\n",
       "  /* fitted */\n",
       "  border: var(--sklearn-color-fitted-level-1) 1pt solid;\n",
       "  color: var(--sklearn-color-fitted-level-1);\n",
       "}\n",
       "\n",
       "/* On hover */\n",
       "#sk-container-id-1 a.estimator_doc_link:hover {\n",
       "  /* unfitted */\n",
       "  background-color: var(--sklearn-color-unfitted-level-3);\n",
       "  color: var(--sklearn-color-background);\n",
       "  text-decoration: none;\n",
       "}\n",
       "\n",
       "#sk-container-id-1 a.estimator_doc_link.fitted:hover {\n",
       "  /* fitted */\n",
       "  background-color: var(--sklearn-color-fitted-level-3);\n",
       "}\n",
       "</style><div id=\"sk-container-id-1\" class=\"sk-top-container\"><div class=\"sk-text-repr-fallback\"><pre>RandomizedSearchCV(cv=10, estimator=LogisticRegression(), n_iter=5, n_jobs=-1,\n",
       "                   param_distributions={&#x27;C&#x27;: array([1.00000000e+00, 2.78255940e+00, 7.74263683e+00, 2.15443469e+01,\n",
       "       5.99484250e+01, 1.66810054e+02, 4.64158883e+02, 1.29154967e+03,\n",
       "       3.59381366e+03, 1.00000000e+04]),\n",
       "                                        &#x27;penalty&#x27;: [&#x27;l2&#x27;], &#x27;solver&#x27;: [&#x27;sag&#x27;]},\n",
       "                   random_state=1, scoring=&#x27;accuracy&#x27;)</pre><b>In a Jupyter environment, please rerun this cell to show the HTML representation or trust the notebook. <br />On GitHub, the HTML representation is unable to render, please try loading this page with nbviewer.org.</b></div><div class=\"sk-container\" hidden><div class=\"sk-item sk-dashed-wrapped\"><div class=\"sk-label-container\"><div class=\"sk-label fitted sk-toggleable\"><input class=\"sk-toggleable__control sk-hidden--visually\" id=\"sk-estimator-id-1\" type=\"checkbox\" ><label for=\"sk-estimator-id-1\" class=\"sk-toggleable__label fitted sk-toggleable__label-arrow fitted\">&nbsp;&nbsp;RandomizedSearchCV<a class=\"sk-estimator-doc-link fitted\" rel=\"noreferrer\" target=\"_blank\" href=\"https://scikit-learn.org/1.5/modules/generated/sklearn.model_selection.RandomizedSearchCV.html\">?<span>Documentation for RandomizedSearchCV</span></a><span class=\"sk-estimator-doc-link fitted\">i<span>Fitted</span></span></label><div class=\"sk-toggleable__content fitted\"><pre>RandomizedSearchCV(cv=10, estimator=LogisticRegression(), n_iter=5, n_jobs=-1,\n",
       "                   param_distributions={&#x27;C&#x27;: array([1.00000000e+00, 2.78255940e+00, 7.74263683e+00, 2.15443469e+01,\n",
       "       5.99484250e+01, 1.66810054e+02, 4.64158883e+02, 1.29154967e+03,\n",
       "       3.59381366e+03, 1.00000000e+04]),\n",
       "                                        &#x27;penalty&#x27;: [&#x27;l2&#x27;], &#x27;solver&#x27;: [&#x27;sag&#x27;]},\n",
       "                   random_state=1, scoring=&#x27;accuracy&#x27;)</pre></div> </div></div><div class=\"sk-parallel\"><div class=\"sk-parallel-item\"><div class=\"sk-item\"><div class=\"sk-label-container\"><div class=\"sk-label fitted sk-toggleable\"><input class=\"sk-toggleable__control sk-hidden--visually\" id=\"sk-estimator-id-2\" type=\"checkbox\" ><label for=\"sk-estimator-id-2\" class=\"sk-toggleable__label fitted sk-toggleable__label-arrow fitted\">best_estimator_: LogisticRegression</label><div class=\"sk-toggleable__content fitted\"><pre>LogisticRegression(C=10000.0, solver=&#x27;sag&#x27;)</pre></div> </div></div><div class=\"sk-serial\"><div class=\"sk-item\"><div class=\"sk-estimator fitted sk-toggleable\"><input class=\"sk-toggleable__control sk-hidden--visually\" id=\"sk-estimator-id-3\" type=\"checkbox\" ><label for=\"sk-estimator-id-3\" class=\"sk-toggleable__label fitted sk-toggleable__label-arrow fitted\">&nbsp;LogisticRegression<a class=\"sk-estimator-doc-link fitted\" rel=\"noreferrer\" target=\"_blank\" href=\"https://scikit-learn.org/1.5/modules/generated/sklearn.linear_model.LogisticRegression.html\">?<span>Documentation for LogisticRegression</span></a></label><div class=\"sk-toggleable__content fitted\"><pre>LogisticRegression(C=10000.0, solver=&#x27;sag&#x27;)</pre></div> </div></div></div></div></div></div></div></div></div>"
      ]
     },
     "execution_count": 28,
     "metadata": {},
     "output_type": "execute_result"
    }
   ],
   "execution_count": 28
  },
  {
   "metadata": {
    "ExecuteTime": {
     "end_time": "2024-06-24T14:48:02.883001Z",
     "start_time": "2024-06-24T14:47:47.599456Z"
    }
   },
   "cell_type": "code",
   "source": [
    "from sklearn.tree import DecisionTreeClassifier\n",
    "model = DecisionTreeClassifier()\n",
    "parametric_grid = {\n",
    "    'max_depth' : list(range(25, 100, 10)),\n",
    "    'max_features' : ['auto', 'sqrt', 'log2']\n",
    "}\n",
    "search = RandomizedSearchCV(model, parametric_grid, n_iter=5, cv=10, scoring='accuracy', n_jobs=-1, random_state=1)\n",
    "\n",
    "result = search.fit(X_train, Y_train)\n",
    "print('Best Score: %s' %result.best_score_)\n",
    "print('Best Hyperparameters: %s' %result.best_params_)"
   ],
   "id": "a73e607ed70938b8",
   "outputs": [
    {
     "name": "stdout",
     "output_type": "stream",
     "text": [
      "Best Score: 0.7699380112871069\n",
      "Best Hyperparameters: {'max_features': 'sqrt', 'max_depth': 65}\n"
     ]
    }
   ],
   "execution_count": 25
  },
  {
   "metadata": {
    "ExecuteTime": {
     "end_time": "2024-06-24T14:48:50.732918Z",
     "start_time": "2024-06-24T14:48:50.654756Z"
    }
   },
   "cell_type": "code",
   "source": [
    "best_random = result.best_estimator_\n",
    "y_pred_test = best_random.predict(X_test)\n",
    "print(classification_report(Y_test, y_pred_test))"
   ],
   "id": "6744cc0074b704c9",
   "outputs": [
    {
     "name": "stdout",
     "output_type": "stream",
     "text": [
      "              precision    recall  f1-score   support\n",
      "\n",
      "           0       0.78      0.78      0.78      3775\n",
      "           1       0.78      0.78      0.78      3802\n",
      "\n",
      "    accuracy                           0.78      7577\n",
      "   macro avg       0.78      0.78      0.78      7577\n",
      "weighted avg       0.78      0.78      0.78      7577\n",
      "\n"
     ]
    }
   ],
   "execution_count": 26
  },
  {
   "metadata": {
    "ExecuteTime": {
     "end_time": "2024-06-24T14:57:45.993172Z",
     "start_time": "2024-06-24T14:50:26.234395Z"
    }
   },
   "cell_type": "code",
   "source": [
    "\n",
    "model = RandomForestClassifier()\n",
    "parametric_grid = {\n",
    "    'max_depth' : list(range(25, 100, 10)),\n",
    "    'n_estimators' : list(range(80, 200, 10))\n",
    "}\n",
    "search = RandomizedSearchCV(model, parametric_grid, n_iter=5, cv=10, scoring='accuracy', n_jobs=-1, random_state=1)\n",
    "\n",
    "result = search.fit(X_train, Y_train)\n",
    "print('Best Score: %s' %result.best_score_)\n",
    "print('Best Hyperparameters: %s' %result.best_params_)"
   ],
   "id": "bed8653f11b7c2ad",
   "outputs": [
    {
     "name": "stdout",
     "output_type": "stream",
     "text": [
      "Best Score: 0.9031183708935064\n",
      "Best Hyperparameters: {'n_estimators': 140, 'max_depth': 85}\n"
     ]
    }
   ],
   "execution_count": 27
  },
  {
   "metadata": {
    "ExecuteTime": {
     "end_time": "2024-06-24T14:58:11.613356Z",
     "start_time": "2024-06-24T14:58:10.933950Z"
    }
   },
   "cell_type": "code",
   "source": [
    "best_random = result.best_estimator_\n",
    "y_pred_test = best_random.predict(X_test)\n",
    "print(classification_report(Y_test, y_pred_test))"
   ],
   "id": "854b87afd6997bfc",
   "outputs": [
    {
     "name": "stdout",
     "output_type": "stream",
     "text": [
      "              precision    recall  f1-score   support\n",
      "\n",
      "           0       0.98      0.82      0.90      3775\n",
      "           1       0.85      0.99      0.91      3802\n",
      "\n",
      "    accuracy                           0.91      7577\n",
      "   macro avg       0.92      0.91      0.90      7577\n",
      "weighted avg       0.92      0.91      0.90      7577\n",
      "\n"
     ]
    }
   ],
   "execution_count": 28
  },
  {
   "metadata": {
    "ExecuteTime": {
     "end_time": "2024-06-24T15:13:13.525881Z",
     "start_time": "2024-06-24T14:59:02.661921Z"
    }
   },
   "cell_type": "code",
   "source": [
    "model = AdaBoostClassifier()\n",
    "parametric_grid = {\n",
    "    'n_estimators' : list(range(80, 200, 10))\n",
    "}\n",
    "search = RandomizedSearchCV(model, parametric_grid, n_iter=5, cv=10, scoring='accuracy', n_jobs=-1, random_state=1)\n",
    "\n",
    "result = search.fit(X_train, Y_train)\n",
    "print('Best Score: %s' %result.best_score_)\n",
    "print('Best Hyperparameters: %s' %result.best_params_)"
   ],
   "id": "5f4c909677271d2",
   "outputs": [
    {
     "name": "stdout",
     "output_type": "stream",
     "text": [
      "Best Score: 0.8950668069116381\n",
      "Best Hyperparameters: {'n_estimators': 180}\n"
     ]
    }
   ],
   "execution_count": 29
  },
  {
   "metadata": {
    "ExecuteTime": {
     "end_time": "2024-06-24T15:16:40.683011Z",
     "start_time": "2024-06-24T15:16:36.938558Z"
    }
   },
   "cell_type": "code",
   "source": [
    "best_random = result.best_estimator_\n",
    "y_pred_test = best_random.predict(X_test)\n",
    "print(classification_report(Y_test, y_pred_test))"
   ],
   "id": "db5515e6207c8f90",
   "outputs": [
    {
     "name": "stdout",
     "output_type": "stream",
     "text": [
      "              precision    recall  f1-score   support\n",
      "\n",
      "           0       0.96      0.84      0.89      3775\n",
      "           1       0.86      0.96      0.91      3802\n",
      "\n",
      "    accuracy                           0.90      7577\n",
      "   macro avg       0.91      0.90      0.90      7577\n",
      "weighted avg       0.91      0.90      0.90      7577\n",
      "\n"
     ]
    }
   ],
   "execution_count": 36
  },
  {
   "metadata": {
    "ExecuteTime": {
     "end_time": "2024-06-24T15:23:56.772180Z",
     "start_time": "2024-06-24T15:23:56.742624Z"
    }
   },
   "cell_type": "code",
   "source": [
    "from logitboost import LogitBoost\n",
    "\n",
    "model = LogitBoost()\n",
    "parametric_grid = {\n",
    "    'n_estimators' : list(range(80, 200, 10))\n",
    "}\n",
    "search = RandomizedSearchCV(model, parametric_grid, n_iter=5, cv=10, scoring='accuracy', n_jobs=-1, random_state=1)\n",
    "\n",
    "result = search.fit(X_train, Y_train)\n",
    "print('Best Score: %s' %result.best_score_)\n",
    "print('Best Hyperparameters: %s' %result.best_params_)"
   ],
   "id": "8b50ab430e0ed310",
   "outputs": [
    {
     "ename": "TypeError",
     "evalue": "BaseEnsemble.__init__() got an unexpected keyword argument 'base_estimator'",
     "output_type": "error",
     "traceback": [
      "\u001B[1;31m---------------------------------------------------------------------------\u001B[0m",
      "\u001B[1;31mTypeError\u001B[0m                                 Traceback (most recent call last)",
      "Cell \u001B[1;32mIn[39], line 3\u001B[0m\n\u001B[0;32m      1\u001B[0m \u001B[38;5;28;01mfrom\u001B[39;00m \u001B[38;5;21;01mlogitboost\u001B[39;00m \u001B[38;5;28;01mimport\u001B[39;00m LogitBoost\n\u001B[1;32m----> 3\u001B[0m model \u001B[38;5;241m=\u001B[39m \u001B[43mLogitBoost\u001B[49m\u001B[43m(\u001B[49m\u001B[43m)\u001B[49m\n\u001B[0;32m      4\u001B[0m parametric_grid \u001B[38;5;241m=\u001B[39m {\n\u001B[0;32m      5\u001B[0m     \u001B[38;5;124m'\u001B[39m\u001B[38;5;124mn_estimators\u001B[39m\u001B[38;5;124m'\u001B[39m : \u001B[38;5;28mlist\u001B[39m(\u001B[38;5;28mrange\u001B[39m(\u001B[38;5;241m80\u001B[39m, \u001B[38;5;241m200\u001B[39m, \u001B[38;5;241m10\u001B[39m))\n\u001B[0;32m      6\u001B[0m }\n\u001B[0;32m      7\u001B[0m search \u001B[38;5;241m=\u001B[39m RandomizedSearchCV(model, parametric_grid, n_iter\u001B[38;5;241m=\u001B[39m\u001B[38;5;241m5\u001B[39m, cv\u001B[38;5;241m=\u001B[39m\u001B[38;5;241m10\u001B[39m, scoring\u001B[38;5;241m=\u001B[39m\u001B[38;5;124m'\u001B[39m\u001B[38;5;124maccuracy\u001B[39m\u001B[38;5;124m'\u001B[39m, n_jobs\u001B[38;5;241m=\u001B[39m\u001B[38;5;241m-\u001B[39m\u001B[38;5;241m1\u001B[39m, random_state\u001B[38;5;241m=\u001B[39m\u001B[38;5;241m1\u001B[39m)\n",
      "File \u001B[1;32m~\\PycharmProjects\\Tennis Project\\.venv\\Lib\\site-packages\\logitboost\\logitboost.py:112\u001B[0m, in \u001B[0;36mLogitBoost.__init__\u001B[1;34m(self, base_estimator, n_estimators, weight_trim_quantile, max_response, learning_rate, bootstrap, random_state)\u001B[0m\n\u001B[0;32m    109\u001B[0m \u001B[38;5;28;01mdef\u001B[39;00m \u001B[38;5;21m__init__\u001B[39m(\u001B[38;5;28mself\u001B[39m, base_estimator\u001B[38;5;241m=\u001B[39m\u001B[38;5;28;01mNone\u001B[39;00m, n_estimators\u001B[38;5;241m=\u001B[39m\u001B[38;5;241m50\u001B[39m,\n\u001B[0;32m    110\u001B[0m              weight_trim_quantile\u001B[38;5;241m=\u001B[39m\u001B[38;5;241m0.05\u001B[39m, max_response\u001B[38;5;241m=\u001B[39m\u001B[38;5;241m4.0\u001B[39m, learning_rate\u001B[38;5;241m=\u001B[39m\u001B[38;5;241m1.0\u001B[39m,\n\u001B[0;32m    111\u001B[0m              bootstrap\u001B[38;5;241m=\u001B[39m\u001B[38;5;28;01mFalse\u001B[39;00m, random_state\u001B[38;5;241m=\u001B[39m\u001B[38;5;28;01mNone\u001B[39;00m):\n\u001B[1;32m--> 112\u001B[0m     \u001B[38;5;28;43msuper\u001B[39;49m\u001B[43m(\u001B[49m\u001B[43mLogitBoost\u001B[49m\u001B[43m,\u001B[49m\u001B[43m \u001B[49m\u001B[38;5;28;43mself\u001B[39;49m\u001B[43m)\u001B[49m\u001B[38;5;241;43m.\u001B[39;49m\u001B[38;5;21;43m__init__\u001B[39;49m\u001B[43m(\u001B[49m\u001B[43mbase_estimator\u001B[49m\u001B[38;5;241;43m=\u001B[39;49m\u001B[43mbase_estimator\u001B[49m\u001B[43m,\u001B[49m\n\u001B[0;32m    113\u001B[0m \u001B[43m                                     \u001B[49m\u001B[43mn_estimators\u001B[49m\u001B[38;5;241;43m=\u001B[39;49m\u001B[43mn_estimators\u001B[49m\u001B[43m)\u001B[49m\n\u001B[0;32m    114\u001B[0m     \u001B[38;5;28mself\u001B[39m\u001B[38;5;241m.\u001B[39mweight_trim_quantile \u001B[38;5;241m=\u001B[39m weight_trim_quantile\n\u001B[0;32m    115\u001B[0m     \u001B[38;5;28mself\u001B[39m\u001B[38;5;241m.\u001B[39mmax_response \u001B[38;5;241m=\u001B[39m max_response\n",
      "\u001B[1;31mTypeError\u001B[0m: BaseEnsemble.__init__() got an unexpected keyword argument 'base_estimator'"
     ]
    }
   ],
   "execution_count": 39
  },
  {
   "metadata": {
    "ExecuteTime": {
     "end_time": "2024-06-24T15:16:25.704398Z",
     "start_time": "2024-06-24T15:16:25.688818Z"
    }
   },
   "cell_type": "code",
   "source": "import logitboost as lb",
   "id": "69c712a09ac18fcc",
   "outputs": [],
   "execution_count": 34
  },
  {
   "metadata": {
    "ExecuteTime": {
     "end_time": "2024-06-24T15:42:26.527993Z",
     "start_time": "2024-06-24T15:42:25.477307Z"
    }
   },
   "cell_type": "code",
   "source": [
    "\n",
    "import tensorflow\n"
   ],
   "id": "1763c53c841630c8",
   "outputs": [
    {
     "ename": "RecursionError",
     "evalue": "maximum recursion depth exceeded",
     "output_type": "error",
     "traceback": [
      "\u001B[1;31m---------------------------------------------------------------------------\u001B[0m",
      "\u001B[1;31mRecursionError\u001B[0m                            Traceback (most recent call last)",
      "Cell \u001B[1;32mIn[46], line 1\u001B[0m\n\u001B[1;32m----> 1\u001B[0m \u001B[38;5;28;01mimport\u001B[39;00m \u001B[38;5;21;01mtensorflow\u001B[39;00m\n",
      "File \u001B[1;32m~\\PycharmProjects\\Tennis Project\\.venv\\Lib\\site-packages\\tensorflow\\__init__.py:45\u001B[0m\n\u001B[0;32m     42\u001B[0m \u001B[38;5;28;01mfrom\u001B[39;00m \u001B[38;5;21;01mtensorflow\u001B[39;00m\u001B[38;5;21;01m.\u001B[39;00m\u001B[38;5;21;01mpython\u001B[39;00m \u001B[38;5;28;01mimport\u001B[39;00m tf2 \u001B[38;5;28;01mas\u001B[39;00m _tf2\n\u001B[0;32m     43\u001B[0m _tf2\u001B[38;5;241m.\u001B[39menable()\n\u001B[1;32m---> 45\u001B[0m \u001B[38;5;28;01mfrom\u001B[39;00m \u001B[38;5;21;01mtensorflow\u001B[39;00m\u001B[38;5;21;01m.\u001B[39;00m\u001B[38;5;21;01m_api\u001B[39;00m\u001B[38;5;21;01m.\u001B[39;00m\u001B[38;5;21;01mv2\u001B[39;00m \u001B[38;5;28;01mimport\u001B[39;00m __internal__\n\u001B[0;32m     46\u001B[0m \u001B[38;5;28;01mfrom\u001B[39;00m \u001B[38;5;21;01mtensorflow\u001B[39;00m\u001B[38;5;21;01m.\u001B[39;00m\u001B[38;5;21;01m_api\u001B[39;00m\u001B[38;5;21;01m.\u001B[39;00m\u001B[38;5;21;01mv2\u001B[39;00m \u001B[38;5;28;01mimport\u001B[39;00m __operators__\n\u001B[0;32m     47\u001B[0m \u001B[38;5;28;01mfrom\u001B[39;00m \u001B[38;5;21;01mtensorflow\u001B[39;00m\u001B[38;5;21;01m.\u001B[39;00m\u001B[38;5;21;01m_api\u001B[39;00m\u001B[38;5;21;01m.\u001B[39;00m\u001B[38;5;21;01mv2\u001B[39;00m \u001B[38;5;28;01mimport\u001B[39;00m audio\n",
      "File \u001B[1;32m~\\PycharmProjects\\Tennis Project\\.venv\\Lib\\site-packages\\tensorflow\\_api\\v2\\__internal__\\__init__.py:8\u001B[0m\n\u001B[0;32m      3\u001B[0m \u001B[38;5;124;03m\"\"\"Public API for tf._api.v2.__internal__ namespace\u001B[39;00m\n\u001B[0;32m      4\u001B[0m \u001B[38;5;124;03m\"\"\"\u001B[39;00m\n\u001B[0;32m      6\u001B[0m \u001B[38;5;28;01mimport\u001B[39;00m \u001B[38;5;21;01msys\u001B[39;00m \u001B[38;5;28;01mas\u001B[39;00m \u001B[38;5;21;01m_sys\u001B[39;00m\n\u001B[1;32m----> 8\u001B[0m \u001B[38;5;28;01mfrom\u001B[39;00m \u001B[38;5;21;01mtensorflow\u001B[39;00m\u001B[38;5;21;01m.\u001B[39;00m\u001B[38;5;21;01m_api\u001B[39;00m\u001B[38;5;21;01m.\u001B[39;00m\u001B[38;5;21;01mv2\u001B[39;00m\u001B[38;5;21;01m.\u001B[39;00m\u001B[38;5;21;01m__internal__\u001B[39;00m \u001B[38;5;28;01mimport\u001B[39;00m autograph\n\u001B[0;32m      9\u001B[0m \u001B[38;5;28;01mfrom\u001B[39;00m \u001B[38;5;21;01mtensorflow\u001B[39;00m\u001B[38;5;21;01m.\u001B[39;00m\u001B[38;5;21;01m_api\u001B[39;00m\u001B[38;5;21;01m.\u001B[39;00m\u001B[38;5;21;01mv2\u001B[39;00m\u001B[38;5;21;01m.\u001B[39;00m\u001B[38;5;21;01m__internal__\u001B[39;00m \u001B[38;5;28;01mimport\u001B[39;00m decorator\n\u001B[0;32m     10\u001B[0m \u001B[38;5;28;01mfrom\u001B[39;00m \u001B[38;5;21;01mtensorflow\u001B[39;00m\u001B[38;5;21;01m.\u001B[39;00m\u001B[38;5;21;01m_api\u001B[39;00m\u001B[38;5;21;01m.\u001B[39;00m\u001B[38;5;21;01mv2\u001B[39;00m\u001B[38;5;21;01m.\u001B[39;00m\u001B[38;5;21;01m__internal__\u001B[39;00m \u001B[38;5;28;01mimport\u001B[39;00m dispatch\n",
      "File \u001B[1;32m~\\PycharmProjects\\Tennis Project\\.venv\\Lib\\site-packages\\tensorflow\\_api\\v2\\__internal__\\autograph\\__init__.py:8\u001B[0m\n\u001B[0;32m      3\u001B[0m \u001B[38;5;124;03m\"\"\"Public API for tf._api.v2.__internal__.autograph namespace\u001B[39;00m\n\u001B[0;32m      4\u001B[0m \u001B[38;5;124;03m\"\"\"\u001B[39;00m\n\u001B[0;32m      6\u001B[0m \u001B[38;5;28;01mimport\u001B[39;00m \u001B[38;5;21;01msys\u001B[39;00m \u001B[38;5;28;01mas\u001B[39;00m \u001B[38;5;21;01m_sys\u001B[39;00m\n\u001B[1;32m----> 8\u001B[0m \u001B[38;5;28;01mfrom\u001B[39;00m \u001B[38;5;21;01mtensorflow\u001B[39;00m\u001B[38;5;21;01m.\u001B[39;00m\u001B[38;5;21;01mpython\u001B[39;00m\u001B[38;5;21;01m.\u001B[39;00m\u001B[38;5;21;01mautograph\u001B[39;00m\u001B[38;5;21;01m.\u001B[39;00m\u001B[38;5;21;01mcore\u001B[39;00m\u001B[38;5;21;01m.\u001B[39;00m\u001B[38;5;21;01mag_ctx\u001B[39;00m \u001B[38;5;28;01mimport\u001B[39;00m control_status_ctx \u001B[38;5;66;03m# line: 34\u001B[39;00m\n\u001B[0;32m      9\u001B[0m \u001B[38;5;28;01mfrom\u001B[39;00m \u001B[38;5;21;01mtensorflow\u001B[39;00m\u001B[38;5;21;01m.\u001B[39;00m\u001B[38;5;21;01mpython\u001B[39;00m\u001B[38;5;21;01m.\u001B[39;00m\u001B[38;5;21;01mautograph\u001B[39;00m\u001B[38;5;21;01m.\u001B[39;00m\u001B[38;5;21;01mimpl\u001B[39;00m\u001B[38;5;21;01m.\u001B[39;00m\u001B[38;5;21;01mapi\u001B[39;00m \u001B[38;5;28;01mimport\u001B[39;00m tf_convert \u001B[38;5;66;03m# line: 493\u001B[39;00m\n",
      "File \u001B[1;32m~\\PycharmProjects\\Tennis Project\\.venv\\Lib\\site-packages\\tensorflow\\python\\autograph\\core\\ag_ctx.py:21\u001B[0m\n\u001B[0;32m     18\u001B[0m \u001B[38;5;28;01mimport\u001B[39;00m \u001B[38;5;21;01minspect\u001B[39;00m\n\u001B[0;32m     19\u001B[0m \u001B[38;5;28;01mimport\u001B[39;00m \u001B[38;5;21;01mthreading\u001B[39;00m\n\u001B[1;32m---> 21\u001B[0m \u001B[38;5;28;01mfrom\u001B[39;00m \u001B[38;5;21;01mtensorflow\u001B[39;00m\u001B[38;5;21;01m.\u001B[39;00m\u001B[38;5;21;01mpython\u001B[39;00m\u001B[38;5;21;01m.\u001B[39;00m\u001B[38;5;21;01mautograph\u001B[39;00m\u001B[38;5;21;01m.\u001B[39;00m\u001B[38;5;21;01mutils\u001B[39;00m \u001B[38;5;28;01mimport\u001B[39;00m ag_logging\n\u001B[0;32m     22\u001B[0m \u001B[38;5;28;01mfrom\u001B[39;00m \u001B[38;5;21;01mtensorflow\u001B[39;00m\u001B[38;5;21;01m.\u001B[39;00m\u001B[38;5;21;01mpython\u001B[39;00m\u001B[38;5;21;01m.\u001B[39;00m\u001B[38;5;21;01mutil\u001B[39;00m\u001B[38;5;21;01m.\u001B[39;00m\u001B[38;5;21;01mtf_export\u001B[39;00m \u001B[38;5;28;01mimport\u001B[39;00m tf_export\n\u001B[0;32m     25\u001B[0m stacks \u001B[38;5;241m=\u001B[39m threading\u001B[38;5;241m.\u001B[39mlocal()\n",
      "File \u001B[1;32m~\\PycharmProjects\\Tennis Project\\.venv\\Lib\\site-packages\\tensorflow\\python\\autograph\\utils\\__init__.py:17\u001B[0m\n\u001B[0;32m      1\u001B[0m \u001B[38;5;66;03m# Copyright 2016 The TensorFlow Authors. All Rights Reserved.\u001B[39;00m\n\u001B[0;32m      2\u001B[0m \u001B[38;5;66;03m#\u001B[39;00m\n\u001B[0;32m      3\u001B[0m \u001B[38;5;66;03m# Licensed under the Apache License, Version 2.0 (the \"License\");\u001B[39;00m\n\u001B[1;32m   (...)\u001B[0m\n\u001B[0;32m     13\u001B[0m \u001B[38;5;66;03m# limitations under the License.\u001B[39;00m\n\u001B[0;32m     14\u001B[0m \u001B[38;5;66;03m# ==============================================================================\u001B[39;00m\n\u001B[0;32m     15\u001B[0m \u001B[38;5;124;03m\"\"\"Utility module that contains APIs usable in the generated code.\"\"\"\u001B[39;00m\n\u001B[1;32m---> 17\u001B[0m \u001B[38;5;28;01mfrom\u001B[39;00m \u001B[38;5;21;01mtensorflow\u001B[39;00m\u001B[38;5;21;01m.\u001B[39;00m\u001B[38;5;21;01mpython\u001B[39;00m\u001B[38;5;21;01m.\u001B[39;00m\u001B[38;5;21;01mautograph\u001B[39;00m\u001B[38;5;21;01m.\u001B[39;00m\u001B[38;5;21;01mutils\u001B[39;00m\u001B[38;5;21;01m.\u001B[39;00m\u001B[38;5;21;01mcontext_managers\u001B[39;00m \u001B[38;5;28;01mimport\u001B[39;00m control_dependency_on_returns\n\u001B[0;32m     18\u001B[0m \u001B[38;5;28;01mfrom\u001B[39;00m \u001B[38;5;21;01mtensorflow\u001B[39;00m\u001B[38;5;21;01m.\u001B[39;00m\u001B[38;5;21;01mpython\u001B[39;00m\u001B[38;5;21;01m.\u001B[39;00m\u001B[38;5;21;01mautograph\u001B[39;00m\u001B[38;5;21;01m.\u001B[39;00m\u001B[38;5;21;01mutils\u001B[39;00m\u001B[38;5;21;01m.\u001B[39;00m\u001B[38;5;21;01mmisc\u001B[39;00m \u001B[38;5;28;01mimport\u001B[39;00m alias_tensors\n\u001B[0;32m     19\u001B[0m \u001B[38;5;28;01mfrom\u001B[39;00m \u001B[38;5;21;01mtensorflow\u001B[39;00m\u001B[38;5;21;01m.\u001B[39;00m\u001B[38;5;21;01mpython\u001B[39;00m\u001B[38;5;21;01m.\u001B[39;00m\u001B[38;5;21;01mautograph\u001B[39;00m\u001B[38;5;21;01m.\u001B[39;00m\u001B[38;5;21;01mutils\u001B[39;00m\u001B[38;5;21;01m.\u001B[39;00m\u001B[38;5;21;01mtensor_list\u001B[39;00m \u001B[38;5;28;01mimport\u001B[39;00m dynamic_list_append\n",
      "File \u001B[1;32m~\\PycharmProjects\\Tennis Project\\.venv\\Lib\\site-packages\\tensorflow\\python\\autograph\\utils\\context_managers.py:19\u001B[0m\n\u001B[0;32m     15\u001B[0m \u001B[38;5;124;03m\"\"\"Various context managers.\"\"\"\u001B[39;00m\n\u001B[0;32m     17\u001B[0m \u001B[38;5;28;01mimport\u001B[39;00m \u001B[38;5;21;01mcontextlib\u001B[39;00m\n\u001B[1;32m---> 19\u001B[0m \u001B[38;5;28;01mfrom\u001B[39;00m \u001B[38;5;21;01mtensorflow\u001B[39;00m\u001B[38;5;21;01m.\u001B[39;00m\u001B[38;5;21;01mpython\u001B[39;00m\u001B[38;5;21;01m.\u001B[39;00m\u001B[38;5;21;01mframework\u001B[39;00m \u001B[38;5;28;01mimport\u001B[39;00m ops\n\u001B[0;32m     20\u001B[0m \u001B[38;5;28;01mfrom\u001B[39;00m \u001B[38;5;21;01mtensorflow\u001B[39;00m\u001B[38;5;21;01m.\u001B[39;00m\u001B[38;5;21;01mpython\u001B[39;00m\u001B[38;5;21;01m.\u001B[39;00m\u001B[38;5;21;01mops\u001B[39;00m \u001B[38;5;28;01mimport\u001B[39;00m tensor_array_ops\n\u001B[0;32m     23\u001B[0m \u001B[38;5;28;01mdef\u001B[39;00m \u001B[38;5;21mcontrol_dependency_on_returns\u001B[39m(return_value):\n",
      "File \u001B[1;32m~\\PycharmProjects\\Tennis Project\\.venv\\Lib\\site-packages\\tensorflow\\python\\framework\\ops.py:50\u001B[0m\n\u001B[0;32m     48\u001B[0m \u001B[38;5;28;01mfrom\u001B[39;00m \u001B[38;5;21;01mtensorflow\u001B[39;00m\u001B[38;5;21;01m.\u001B[39;00m\u001B[38;5;21;01mpython\u001B[39;00m \u001B[38;5;28;01mimport\u001B[39;00m tf2\n\u001B[0;32m     49\u001B[0m \u001B[38;5;28;01mfrom\u001B[39;00m \u001B[38;5;21;01mtensorflow\u001B[39;00m\u001B[38;5;21;01m.\u001B[39;00m\u001B[38;5;21;01mpython\u001B[39;00m\u001B[38;5;21;01m.\u001B[39;00m\u001B[38;5;21;01mclient\u001B[39;00m \u001B[38;5;28;01mimport\u001B[39;00m pywrap_tf_session\n\u001B[1;32m---> 50\u001B[0m \u001B[38;5;28;01mfrom\u001B[39;00m \u001B[38;5;21;01mtensorflow\u001B[39;00m\u001B[38;5;21;01m.\u001B[39;00m\u001B[38;5;21;01mpython\u001B[39;00m\u001B[38;5;21;01m.\u001B[39;00m\u001B[38;5;21;01meager\u001B[39;00m \u001B[38;5;28;01mimport\u001B[39;00m context\n\u001B[0;32m     51\u001B[0m \u001B[38;5;28;01mfrom\u001B[39;00m \u001B[38;5;21;01mtensorflow\u001B[39;00m\u001B[38;5;21;01m.\u001B[39;00m\u001B[38;5;21;01mpython\u001B[39;00m\u001B[38;5;21;01m.\u001B[39;00m\u001B[38;5;21;01meager\u001B[39;00m \u001B[38;5;28;01mimport\u001B[39;00m core\n\u001B[0;32m     52\u001B[0m \u001B[38;5;28;01mfrom\u001B[39;00m \u001B[38;5;21;01mtensorflow\u001B[39;00m\u001B[38;5;21;01m.\u001B[39;00m\u001B[38;5;21;01mpython\u001B[39;00m\u001B[38;5;21;01m.\u001B[39;00m\u001B[38;5;21;01meager\u001B[39;00m \u001B[38;5;28;01mimport\u001B[39;00m monitoring\n",
      "File \u001B[1;32m~\\PycharmProjects\\Tennis Project\\.venv\\Lib\\site-packages\\tensorflow\\python\\eager\\context.py:37\u001B[0m\n\u001B[0;32m     35\u001B[0m \u001B[38;5;28;01mfrom\u001B[39;00m \u001B[38;5;21;01mtensorflow\u001B[39;00m\u001B[38;5;21;01m.\u001B[39;00m\u001B[38;5;21;01mpython\u001B[39;00m\u001B[38;5;21;01m.\u001B[39;00m\u001B[38;5;21;01mclient\u001B[39;00m \u001B[38;5;28;01mimport\u001B[39;00m pywrap_tf_session\n\u001B[0;32m     36\u001B[0m \u001B[38;5;28;01mfrom\u001B[39;00m \u001B[38;5;21;01mtensorflow\u001B[39;00m\u001B[38;5;21;01m.\u001B[39;00m\u001B[38;5;21;01mpython\u001B[39;00m\u001B[38;5;21;01m.\u001B[39;00m\u001B[38;5;21;01meager\u001B[39;00m \u001B[38;5;28;01mimport\u001B[39;00m cancellation\n\u001B[1;32m---> 37\u001B[0m \u001B[38;5;28;01mfrom\u001B[39;00m \u001B[38;5;21;01mtensorflow\u001B[39;00m\u001B[38;5;21;01m.\u001B[39;00m\u001B[38;5;21;01mpython\u001B[39;00m\u001B[38;5;21;01m.\u001B[39;00m\u001B[38;5;21;01meager\u001B[39;00m \u001B[38;5;28;01mimport\u001B[39;00m execute\n\u001B[0;32m     38\u001B[0m \u001B[38;5;28;01mfrom\u001B[39;00m \u001B[38;5;21;01mtensorflow\u001B[39;00m\u001B[38;5;21;01m.\u001B[39;00m\u001B[38;5;21;01mpython\u001B[39;00m\u001B[38;5;21;01m.\u001B[39;00m\u001B[38;5;21;01meager\u001B[39;00m \u001B[38;5;28;01mimport\u001B[39;00m executor\n\u001B[0;32m     39\u001B[0m \u001B[38;5;28;01mfrom\u001B[39;00m \u001B[38;5;21;01mtensorflow\u001B[39;00m\u001B[38;5;21;01m.\u001B[39;00m\u001B[38;5;21;01mpython\u001B[39;00m\u001B[38;5;21;01m.\u001B[39;00m\u001B[38;5;21;01meager\u001B[39;00m \u001B[38;5;28;01mimport\u001B[39;00m monitoring\n",
      "File \u001B[1;32m~\\PycharmProjects\\Tennis Project\\.venv\\Lib\\site-packages\\tensorflow\\python\\eager\\execute.py:21\u001B[0m\n\u001B[0;32m     19\u001B[0m \u001B[38;5;28;01mfrom\u001B[39;00m \u001B[38;5;21;01mtensorflow\u001B[39;00m\u001B[38;5;21;01m.\u001B[39;00m\u001B[38;5;21;01mpython\u001B[39;00m \u001B[38;5;28;01mimport\u001B[39;00m pywrap_tfe\n\u001B[0;32m     20\u001B[0m \u001B[38;5;28;01mfrom\u001B[39;00m \u001B[38;5;21;01mtensorflow\u001B[39;00m\u001B[38;5;21;01m.\u001B[39;00m\u001B[38;5;21;01mpython\u001B[39;00m\u001B[38;5;21;01m.\u001B[39;00m\u001B[38;5;21;01meager\u001B[39;00m \u001B[38;5;28;01mimport\u001B[39;00m core\n\u001B[1;32m---> 21\u001B[0m \u001B[38;5;28;01mfrom\u001B[39;00m \u001B[38;5;21;01mtensorflow\u001B[39;00m\u001B[38;5;21;01m.\u001B[39;00m\u001B[38;5;21;01mpython\u001B[39;00m\u001B[38;5;21;01m.\u001B[39;00m\u001B[38;5;21;01mframework\u001B[39;00m \u001B[38;5;28;01mimport\u001B[39;00m dtypes\n\u001B[0;32m     22\u001B[0m \u001B[38;5;28;01mfrom\u001B[39;00m \u001B[38;5;21;01mtensorflow\u001B[39;00m\u001B[38;5;21;01m.\u001B[39;00m\u001B[38;5;21;01mpython\u001B[39;00m\u001B[38;5;21;01m.\u001B[39;00m\u001B[38;5;21;01mframework\u001B[39;00m \u001B[38;5;28;01mimport\u001B[39;00m tensor_conversion_registry\n\u001B[0;32m     23\u001B[0m \u001B[38;5;28;01mfrom\u001B[39;00m \u001B[38;5;21;01mtensorflow\u001B[39;00m\u001B[38;5;21;01m.\u001B[39;00m\u001B[38;5;21;01mpython\u001B[39;00m\u001B[38;5;21;01m.\u001B[39;00m\u001B[38;5;21;01mframework\u001B[39;00m \u001B[38;5;28;01mimport\u001B[39;00m tensor_shape\n",
      "File \u001B[1;32m~\\PycharmProjects\\Tennis Project\\.venv\\Lib\\site-packages\\tensorflow\\python\\framework\\dtypes.py:21\u001B[0m\n\u001B[0;32m     18\u001B[0m \u001B[38;5;28;01mimport\u001B[39;00m \u001B[38;5;21;01mdataclasses\u001B[39;00m\n\u001B[0;32m     19\u001B[0m \u001B[38;5;28;01mfrom\u001B[39;00m \u001B[38;5;21;01mtyping\u001B[39;00m \u001B[38;5;28;01mimport\u001B[39;00m Type, Sequence, Optional\n\u001B[1;32m---> 21\u001B[0m \u001B[38;5;28;01mimport\u001B[39;00m \u001B[38;5;21;01mml_dtypes\u001B[39;00m\n\u001B[0;32m     22\u001B[0m \u001B[38;5;28;01mimport\u001B[39;00m \u001B[38;5;21;01mnumpy\u001B[39;00m \u001B[38;5;28;01mas\u001B[39;00m \u001B[38;5;21;01mnp\u001B[39;00m\n\u001B[0;32m     24\u001B[0m \u001B[38;5;28;01mfrom\u001B[39;00m \u001B[38;5;21;01mtensorflow\u001B[39;00m\u001B[38;5;21;01m.\u001B[39;00m\u001B[38;5;21;01mcore\u001B[39;00m\u001B[38;5;21;01m.\u001B[39;00m\u001B[38;5;21;01mframework\u001B[39;00m \u001B[38;5;28;01mimport\u001B[39;00m types_pb2\n",
      "File \u001B[1;32m~\\PycharmProjects\\Tennis Project\\.venv\\Lib\\site-packages\\ml_dtypes\\__init__.py:32\u001B[0m\n\u001B[0;32m     16\u001B[0m __all__ \u001B[38;5;241m=\u001B[39m [\n\u001B[0;32m     17\u001B[0m     \u001B[38;5;124m'\u001B[39m\u001B[38;5;124m__version__\u001B[39m\u001B[38;5;124m'\u001B[39m,\n\u001B[0;32m     18\u001B[0m     \u001B[38;5;124m'\u001B[39m\u001B[38;5;124mbfloat16\u001B[39m\u001B[38;5;124m'\u001B[39m,\n\u001B[1;32m   (...)\u001B[0m\n\u001B[0;32m     27\u001B[0m     \u001B[38;5;124m'\u001B[39m\u001B[38;5;124muint4\u001B[39m\u001B[38;5;124m'\u001B[39m,\n\u001B[0;32m     28\u001B[0m ]\n\u001B[0;32m     30\u001B[0m \u001B[38;5;28;01mfrom\u001B[39;00m \u001B[38;5;21;01mtyping\u001B[39;00m \u001B[38;5;28;01mimport\u001B[39;00m Type\n\u001B[1;32m---> 32\u001B[0m \u001B[38;5;28;01mfrom\u001B[39;00m \u001B[38;5;21;01mml_dtypes\u001B[39;00m\u001B[38;5;21;01m.\u001B[39;00m\u001B[38;5;21;01m_finfo\u001B[39;00m \u001B[38;5;28;01mimport\u001B[39;00m finfo\n\u001B[0;32m     33\u001B[0m \u001B[38;5;28;01mfrom\u001B[39;00m \u001B[38;5;21;01mml_dtypes\u001B[39;00m\u001B[38;5;21;01m.\u001B[39;00m\u001B[38;5;21;01m_iinfo\u001B[39;00m \u001B[38;5;28;01mimport\u001B[39;00m iinfo\n\u001B[0;32m     34\u001B[0m \u001B[38;5;28;01mfrom\u001B[39;00m \u001B[38;5;21;01mml_dtypes\u001B[39;00m\u001B[38;5;21;01m.\u001B[39;00m\u001B[38;5;21;01m_ml_dtypes_ext\u001B[39;00m \u001B[38;5;28;01mimport\u001B[39;00m bfloat16\n",
      "File \u001B[1;32m~\\PycharmProjects\\Tennis Project\\.venv\\Lib\\site-packages\\ml_dtypes\\_finfo.py:27\u001B[0m\n\u001B[0;32m     24\u001B[0m \u001B[38;5;28;01mfrom\u001B[39;00m \u001B[38;5;21;01mml_dtypes\u001B[39;00m\u001B[38;5;21;01m.\u001B[39;00m\u001B[38;5;21;01m_ml_dtypes_ext\u001B[39;00m \u001B[38;5;28;01mimport\u001B[39;00m float8_e5m2fnuz\n\u001B[0;32m     25\u001B[0m \u001B[38;5;28;01mimport\u001B[39;00m \u001B[38;5;21;01mnumpy\u001B[39;00m \u001B[38;5;28;01mas\u001B[39;00m \u001B[38;5;21;01mnp\u001B[39;00m\n\u001B[1;32m---> 27\u001B[0m _bfloat16_dtype \u001B[38;5;241m=\u001B[39m \u001B[43mnp\u001B[49m\u001B[38;5;241;43m.\u001B[39;49m\u001B[43mdtype\u001B[49m\u001B[43m(\u001B[49m\u001B[43mbfloat16\u001B[49m\u001B[43m)\u001B[49m\n\u001B[0;32m     28\u001B[0m _float8_e4m3b11fnuz_dtype \u001B[38;5;241m=\u001B[39m np\u001B[38;5;241m.\u001B[39mdtype(float8_e4m3b11fnuz)\n\u001B[0;32m     29\u001B[0m _float8_e4m3fn_dtype \u001B[38;5;241m=\u001B[39m np\u001B[38;5;241m.\u001B[39mdtype(float8_e4m3fn)\n",
      "File \u001B[1;32m~\\PycharmProjects\\Tennis Project\\.venv\\Lib\\site-packages\\numpy\\core\\_dtype.py:46\u001B[0m, in \u001B[0;36m__repr__\u001B[1;34m(dtype)\u001B[0m\n\u001B[0;32m     45\u001B[0m \u001B[38;5;28;01mdef\u001B[39;00m \u001B[38;5;21m__repr__\u001B[39m(dtype):\n\u001B[1;32m---> 46\u001B[0m     arg_str \u001B[38;5;241m=\u001B[39m \u001B[43m_construction_repr\u001B[49m\u001B[43m(\u001B[49m\u001B[43mdtype\u001B[49m\u001B[43m,\u001B[49m\u001B[43m \u001B[49m\u001B[43minclude_align\u001B[49m\u001B[38;5;241;43m=\u001B[39;49m\u001B[38;5;28;43;01mFalse\u001B[39;49;00m\u001B[43m)\u001B[49m\n\u001B[0;32m     47\u001B[0m     \u001B[38;5;28;01mif\u001B[39;00m dtype\u001B[38;5;241m.\u001B[39misalignedstruct:\n\u001B[0;32m     48\u001B[0m         arg_str \u001B[38;5;241m=\u001B[39m arg_str \u001B[38;5;241m+\u001B[39m \u001B[38;5;124m\"\u001B[39m\u001B[38;5;124m, align=True\u001B[39m\u001B[38;5;124m\"\u001B[39m\n",
      "File \u001B[1;32m~\\PycharmProjects\\Tennis Project\\.venv\\Lib\\site-packages\\numpy\\core\\_dtype.py:100\u001B[0m, in \u001B[0;36m_construction_repr\u001B[1;34m(dtype, include_align, short)\u001B[0m\n\u001B[0;32m     98\u001B[0m     \u001B[38;5;28;01mreturn\u001B[39;00m _subarray_str(dtype)\n\u001B[0;32m     99\u001B[0m \u001B[38;5;28;01melse\u001B[39;00m:\n\u001B[1;32m--> 100\u001B[0m     \u001B[38;5;28;01mreturn\u001B[39;00m \u001B[43m_scalar_str\u001B[49m\u001B[43m(\u001B[49m\u001B[43mdtype\u001B[49m\u001B[43m,\u001B[49m\u001B[43m \u001B[49m\u001B[43mshort\u001B[49m\u001B[38;5;241;43m=\u001B[39;49m\u001B[43mshort\u001B[49m\u001B[43m)\u001B[49m\n",
      "File \u001B[1;32m~\\PycharmProjects\\Tennis Project\\.venv\\Lib\\site-packages\\numpy\\core\\_dtype.py:143\u001B[0m, in \u001B[0;36m_scalar_str\u001B[1;34m(dtype, short)\u001B[0m\n\u001B[0;32m    140\u001B[0m \u001B[38;5;28;01melif\u001B[39;00m dtype\u001B[38;5;241m.\u001B[39mtype \u001B[38;5;241m==\u001B[39m np\u001B[38;5;241m.\u001B[39mtimedelta64:\n\u001B[0;32m    141\u001B[0m     \u001B[38;5;28;01mreturn\u001B[39;00m \u001B[38;5;124m\"\u001B[39m\u001B[38;5;124m'\u001B[39m\u001B[38;5;132;01m%s\u001B[39;00m\u001B[38;5;124mm8\u001B[39m\u001B[38;5;132;01m%s\u001B[39;00m\u001B[38;5;124m'\u001B[39m\u001B[38;5;124m\"\u001B[39m \u001B[38;5;241m%\u001B[39m (byteorder, _datetime_metadata_str(dtype))\n\u001B[1;32m--> 143\u001B[0m \u001B[38;5;28;01melif\u001B[39;00m \u001B[43mnp\u001B[49m\u001B[38;5;241;43m.\u001B[39;49m\u001B[43missubdtype\u001B[49m\u001B[43m(\u001B[49m\u001B[43mdtype\u001B[49m\u001B[43m,\u001B[49m\u001B[43m \u001B[49m\u001B[43mnp\u001B[49m\u001B[38;5;241;43m.\u001B[39;49m\u001B[43mnumber\u001B[49m\u001B[43m)\u001B[49m:\n\u001B[0;32m    144\u001B[0m     \u001B[38;5;66;03m# Short repr with endianness, like '<f8'\u001B[39;00m\n\u001B[0;32m    145\u001B[0m     \u001B[38;5;28;01mif\u001B[39;00m short \u001B[38;5;129;01mor\u001B[39;00m dtype\u001B[38;5;241m.\u001B[39mbyteorder \u001B[38;5;129;01mnot\u001B[39;00m \u001B[38;5;129;01min\u001B[39;00m (\u001B[38;5;124m'\u001B[39m\u001B[38;5;124m=\u001B[39m\u001B[38;5;124m'\u001B[39m, \u001B[38;5;124m'\u001B[39m\u001B[38;5;124m|\u001B[39m\u001B[38;5;124m'\u001B[39m):\n\u001B[0;32m    146\u001B[0m         \u001B[38;5;28;01mreturn\u001B[39;00m \u001B[38;5;124m\"\u001B[39m\u001B[38;5;124m'\u001B[39m\u001B[38;5;132;01m%s\u001B[39;00m\u001B[38;5;132;01m%c\u001B[39;00m\u001B[38;5;132;01m%d\u001B[39;00m\u001B[38;5;124m'\u001B[39m\u001B[38;5;124m\"\u001B[39m \u001B[38;5;241m%\u001B[39m (byteorder, dtype\u001B[38;5;241m.\u001B[39mkind, dtype\u001B[38;5;241m.\u001B[39mitemsize)\n",
      "File \u001B[1;32m~\\PycharmProjects\\Tennis Project\\.venv\\Lib\\site-packages\\numpy\\_core\\numerictypes.py:529\u001B[0m, in \u001B[0;36missubdtype\u001B[1;34m(arg1, arg2)\u001B[0m\n",
      "File \u001B[1;32m~\\PycharmProjects\\Tennis Project\\.venv\\Lib\\site-packages\\numpy\\core\\_dtype.py:46\u001B[0m, in \u001B[0;36m__repr__\u001B[1;34m(dtype)\u001B[0m\n\u001B[0;32m     45\u001B[0m \u001B[38;5;28;01mdef\u001B[39;00m \u001B[38;5;21m__repr__\u001B[39m(dtype):\n\u001B[1;32m---> 46\u001B[0m     arg_str \u001B[38;5;241m=\u001B[39m \u001B[43m_construction_repr\u001B[49m\u001B[43m(\u001B[49m\u001B[43mdtype\u001B[49m\u001B[43m,\u001B[49m\u001B[43m \u001B[49m\u001B[43minclude_align\u001B[49m\u001B[38;5;241;43m=\u001B[39;49m\u001B[38;5;28;43;01mFalse\u001B[39;49;00m\u001B[43m)\u001B[49m\n\u001B[0;32m     47\u001B[0m     \u001B[38;5;28;01mif\u001B[39;00m dtype\u001B[38;5;241m.\u001B[39misalignedstruct:\n\u001B[0;32m     48\u001B[0m         arg_str \u001B[38;5;241m=\u001B[39m arg_str \u001B[38;5;241m+\u001B[39m \u001B[38;5;124m\"\u001B[39m\u001B[38;5;124m, align=True\u001B[39m\u001B[38;5;124m\"\u001B[39m\n",
      "File \u001B[1;32m~\\PycharmProjects\\Tennis Project\\.venv\\Lib\\site-packages\\numpy\\core\\_dtype.py:100\u001B[0m, in \u001B[0;36m_construction_repr\u001B[1;34m(dtype, include_align, short)\u001B[0m\n\u001B[0;32m     98\u001B[0m     \u001B[38;5;28;01mreturn\u001B[39;00m _subarray_str(dtype)\n\u001B[0;32m     99\u001B[0m \u001B[38;5;28;01melse\u001B[39;00m:\n\u001B[1;32m--> 100\u001B[0m     \u001B[38;5;28;01mreturn\u001B[39;00m \u001B[43m_scalar_str\u001B[49m\u001B[43m(\u001B[49m\u001B[43mdtype\u001B[49m\u001B[43m,\u001B[49m\u001B[43m \u001B[49m\u001B[43mshort\u001B[49m\u001B[38;5;241;43m=\u001B[39;49m\u001B[43mshort\u001B[49m\u001B[43m)\u001B[49m\n",
      "File \u001B[1;32m~\\PycharmProjects\\Tennis Project\\.venv\\Lib\\site-packages\\numpy\\core\\_dtype.py:143\u001B[0m, in \u001B[0;36m_scalar_str\u001B[1;34m(dtype, short)\u001B[0m\n\u001B[0;32m    140\u001B[0m \u001B[38;5;28;01melif\u001B[39;00m dtype\u001B[38;5;241m.\u001B[39mtype \u001B[38;5;241m==\u001B[39m np\u001B[38;5;241m.\u001B[39mtimedelta64:\n\u001B[0;32m    141\u001B[0m     \u001B[38;5;28;01mreturn\u001B[39;00m \u001B[38;5;124m\"\u001B[39m\u001B[38;5;124m'\u001B[39m\u001B[38;5;132;01m%s\u001B[39;00m\u001B[38;5;124mm8\u001B[39m\u001B[38;5;132;01m%s\u001B[39;00m\u001B[38;5;124m'\u001B[39m\u001B[38;5;124m\"\u001B[39m \u001B[38;5;241m%\u001B[39m (byteorder, _datetime_metadata_str(dtype))\n\u001B[1;32m--> 143\u001B[0m \u001B[38;5;28;01melif\u001B[39;00m \u001B[43mnp\u001B[49m\u001B[38;5;241;43m.\u001B[39;49m\u001B[43missubdtype\u001B[49m\u001B[43m(\u001B[49m\u001B[43mdtype\u001B[49m\u001B[43m,\u001B[49m\u001B[43m \u001B[49m\u001B[43mnp\u001B[49m\u001B[38;5;241;43m.\u001B[39;49m\u001B[43mnumber\u001B[49m\u001B[43m)\u001B[49m:\n\u001B[0;32m    144\u001B[0m     \u001B[38;5;66;03m# Short repr with endianness, like '<f8'\u001B[39;00m\n\u001B[0;32m    145\u001B[0m     \u001B[38;5;28;01mif\u001B[39;00m short \u001B[38;5;129;01mor\u001B[39;00m dtype\u001B[38;5;241m.\u001B[39mbyteorder \u001B[38;5;129;01mnot\u001B[39;00m \u001B[38;5;129;01min\u001B[39;00m (\u001B[38;5;124m'\u001B[39m\u001B[38;5;124m=\u001B[39m\u001B[38;5;124m'\u001B[39m, \u001B[38;5;124m'\u001B[39m\u001B[38;5;124m|\u001B[39m\u001B[38;5;124m'\u001B[39m):\n\u001B[0;32m    146\u001B[0m         \u001B[38;5;28;01mreturn\u001B[39;00m \u001B[38;5;124m\"\u001B[39m\u001B[38;5;124m'\u001B[39m\u001B[38;5;132;01m%s\u001B[39;00m\u001B[38;5;132;01m%c\u001B[39;00m\u001B[38;5;132;01m%d\u001B[39;00m\u001B[38;5;124m'\u001B[39m\u001B[38;5;124m\"\u001B[39m \u001B[38;5;241m%\u001B[39m (byteorder, dtype\u001B[38;5;241m.\u001B[39mkind, dtype\u001B[38;5;241m.\u001B[39mitemsize)\n",
      "File \u001B[1;32m~\\PycharmProjects\\Tennis Project\\.venv\\Lib\\site-packages\\numpy\\_core\\numerictypes.py:529\u001B[0m, in \u001B[0;36missubdtype\u001B[1;34m(arg1, arg2)\u001B[0m\n",
      "    \u001B[1;31m[... skipping similar frames: __repr__ at line 46 (721 times), _construction_repr at line 100 (720 times), _scalar_str at line 143 (720 times), issubdtype at line 529 (720 times)]\u001B[0m\n",
      "File \u001B[1;32m~\\PycharmProjects\\Tennis Project\\.venv\\Lib\\site-packages\\numpy\\core\\_dtype.py:100\u001B[0m, in \u001B[0;36m_construction_repr\u001B[1;34m(dtype, include_align, short)\u001B[0m\n\u001B[0;32m     98\u001B[0m     \u001B[38;5;28;01mreturn\u001B[39;00m _subarray_str(dtype)\n\u001B[0;32m     99\u001B[0m \u001B[38;5;28;01melse\u001B[39;00m:\n\u001B[1;32m--> 100\u001B[0m     \u001B[38;5;28;01mreturn\u001B[39;00m \u001B[43m_scalar_str\u001B[49m\u001B[43m(\u001B[49m\u001B[43mdtype\u001B[49m\u001B[43m,\u001B[49m\u001B[43m \u001B[49m\u001B[43mshort\u001B[49m\u001B[38;5;241;43m=\u001B[39;49m\u001B[43mshort\u001B[49m\u001B[43m)\u001B[49m\n",
      "File \u001B[1;32m~\\PycharmProjects\\Tennis Project\\.venv\\Lib\\site-packages\\numpy\\core\\_dtype.py:143\u001B[0m, in \u001B[0;36m_scalar_str\u001B[1;34m(dtype, short)\u001B[0m\n\u001B[0;32m    140\u001B[0m \u001B[38;5;28;01melif\u001B[39;00m dtype\u001B[38;5;241m.\u001B[39mtype \u001B[38;5;241m==\u001B[39m np\u001B[38;5;241m.\u001B[39mtimedelta64:\n\u001B[0;32m    141\u001B[0m     \u001B[38;5;28;01mreturn\u001B[39;00m \u001B[38;5;124m\"\u001B[39m\u001B[38;5;124m'\u001B[39m\u001B[38;5;132;01m%s\u001B[39;00m\u001B[38;5;124mm8\u001B[39m\u001B[38;5;132;01m%s\u001B[39;00m\u001B[38;5;124m'\u001B[39m\u001B[38;5;124m\"\u001B[39m \u001B[38;5;241m%\u001B[39m (byteorder, _datetime_metadata_str(dtype))\n\u001B[1;32m--> 143\u001B[0m \u001B[38;5;28;01melif\u001B[39;00m \u001B[43mnp\u001B[49m\u001B[38;5;241;43m.\u001B[39;49m\u001B[43missubdtype\u001B[49m\u001B[43m(\u001B[49m\u001B[43mdtype\u001B[49m\u001B[43m,\u001B[49m\u001B[43m \u001B[49m\u001B[43mnp\u001B[49m\u001B[38;5;241;43m.\u001B[39;49m\u001B[43mnumber\u001B[49m\u001B[43m)\u001B[49m:\n\u001B[0;32m    144\u001B[0m     \u001B[38;5;66;03m# Short repr with endianness, like '<f8'\u001B[39;00m\n\u001B[0;32m    145\u001B[0m     \u001B[38;5;28;01mif\u001B[39;00m short \u001B[38;5;129;01mor\u001B[39;00m dtype\u001B[38;5;241m.\u001B[39mbyteorder \u001B[38;5;129;01mnot\u001B[39;00m \u001B[38;5;129;01min\u001B[39;00m (\u001B[38;5;124m'\u001B[39m\u001B[38;5;124m=\u001B[39m\u001B[38;5;124m'\u001B[39m, \u001B[38;5;124m'\u001B[39m\u001B[38;5;124m|\u001B[39m\u001B[38;5;124m'\u001B[39m):\n\u001B[0;32m    146\u001B[0m         \u001B[38;5;28;01mreturn\u001B[39;00m \u001B[38;5;124m\"\u001B[39m\u001B[38;5;124m'\u001B[39m\u001B[38;5;132;01m%s\u001B[39;00m\u001B[38;5;132;01m%c\u001B[39;00m\u001B[38;5;132;01m%d\u001B[39;00m\u001B[38;5;124m'\u001B[39m\u001B[38;5;124m\"\u001B[39m \u001B[38;5;241m%\u001B[39m (byteorder, dtype\u001B[38;5;241m.\u001B[39mkind, dtype\u001B[38;5;241m.\u001B[39mitemsize)\n",
      "File \u001B[1;32m~\\PycharmProjects\\Tennis Project\\.venv\\Lib\\site-packages\\numpy\\_core\\numerictypes.py:529\u001B[0m, in \u001B[0;36missubdtype\u001B[1;34m(arg1, arg2)\u001B[0m\n",
      "File \u001B[1;32m~\\PycharmProjects\\Tennis Project\\.venv\\Lib\\site-packages\\numpy\\core\\_dtype.py:46\u001B[0m, in \u001B[0;36m__repr__\u001B[1;34m(dtype)\u001B[0m\n\u001B[0;32m     45\u001B[0m \u001B[38;5;28;01mdef\u001B[39;00m \u001B[38;5;21m__repr__\u001B[39m(dtype):\n\u001B[1;32m---> 46\u001B[0m     arg_str \u001B[38;5;241m=\u001B[39m \u001B[43m_construction_repr\u001B[49m\u001B[43m(\u001B[49m\u001B[43mdtype\u001B[49m\u001B[43m,\u001B[49m\u001B[43m \u001B[49m\u001B[43minclude_align\u001B[49m\u001B[38;5;241;43m=\u001B[39;49m\u001B[38;5;28;43;01mFalse\u001B[39;49;00m\u001B[43m)\u001B[49m\n\u001B[0;32m     47\u001B[0m     \u001B[38;5;28;01mif\u001B[39;00m dtype\u001B[38;5;241m.\u001B[39misalignedstruct:\n\u001B[0;32m     48\u001B[0m         arg_str \u001B[38;5;241m=\u001B[39m arg_str \u001B[38;5;241m+\u001B[39m \u001B[38;5;124m\"\u001B[39m\u001B[38;5;124m, align=True\u001B[39m\u001B[38;5;124m\"\u001B[39m\n",
      "\u001B[1;31mRecursionError\u001B[0m: maximum recursion depth exceeded"
     ]
    }
   ],
   "execution_count": 46
  },
  {
   "metadata": {
    "ExecuteTime": {
     "end_time": "2024-06-24T15:47:59.445905Z",
     "start_time": "2024-06-24T15:47:57.876075Z"
    }
   },
   "cell_type": "code",
   "source": "from tensorflow.contrib.keras.preprocessing.text import Tokenizer",
   "id": "ad15f1830aeebc50",
   "outputs": [
    {
     "ename": "RecursionError",
     "evalue": "maximum recursion depth exceeded",
     "output_type": "error",
     "traceback": [
      "\u001B[1;31m---------------------------------------------------------------------------\u001B[0m",
      "\u001B[1;31mRecursionError\u001B[0m                            Traceback (most recent call last)",
      "Cell \u001B[1;32mIn[47], line 1\u001B[0m\n\u001B[1;32m----> 1\u001B[0m \u001B[38;5;28;01mfrom\u001B[39;00m \u001B[38;5;21;01mtensorflow\u001B[39;00m\u001B[38;5;21;01m.\u001B[39;00m\u001B[38;5;21;01mcontrib\u001B[39;00m\u001B[38;5;21;01m.\u001B[39;00m\u001B[38;5;21;01mkeras\u001B[39;00m\u001B[38;5;21;01m.\u001B[39;00m\u001B[38;5;21;01mpreprocessing\u001B[39;00m\u001B[38;5;21;01m.\u001B[39;00m\u001B[38;5;21;01mtext\u001B[39;00m \u001B[38;5;28;01mimport\u001B[39;00m Tokenizer\n",
      "File \u001B[1;32m~\\PycharmProjects\\Tennis Project\\.venv\\Lib\\site-packages\\tensorflow\\__init__.py:45\u001B[0m\n\u001B[0;32m     42\u001B[0m \u001B[38;5;28;01mfrom\u001B[39;00m \u001B[38;5;21;01mtensorflow\u001B[39;00m\u001B[38;5;21;01m.\u001B[39;00m\u001B[38;5;21;01mpython\u001B[39;00m \u001B[38;5;28;01mimport\u001B[39;00m tf2 \u001B[38;5;28;01mas\u001B[39;00m _tf2\n\u001B[0;32m     43\u001B[0m _tf2\u001B[38;5;241m.\u001B[39menable()\n\u001B[1;32m---> 45\u001B[0m \u001B[38;5;28;01mfrom\u001B[39;00m \u001B[38;5;21;01mtensorflow\u001B[39;00m\u001B[38;5;21;01m.\u001B[39;00m\u001B[38;5;21;01m_api\u001B[39;00m\u001B[38;5;21;01m.\u001B[39;00m\u001B[38;5;21;01mv2\u001B[39;00m \u001B[38;5;28;01mimport\u001B[39;00m __internal__\n\u001B[0;32m     46\u001B[0m \u001B[38;5;28;01mfrom\u001B[39;00m \u001B[38;5;21;01mtensorflow\u001B[39;00m\u001B[38;5;21;01m.\u001B[39;00m\u001B[38;5;21;01m_api\u001B[39;00m\u001B[38;5;21;01m.\u001B[39;00m\u001B[38;5;21;01mv2\u001B[39;00m \u001B[38;5;28;01mimport\u001B[39;00m __operators__\n\u001B[0;32m     47\u001B[0m \u001B[38;5;28;01mfrom\u001B[39;00m \u001B[38;5;21;01mtensorflow\u001B[39;00m\u001B[38;5;21;01m.\u001B[39;00m\u001B[38;5;21;01m_api\u001B[39;00m\u001B[38;5;21;01m.\u001B[39;00m\u001B[38;5;21;01mv2\u001B[39;00m \u001B[38;5;28;01mimport\u001B[39;00m audio\n",
      "File \u001B[1;32m~\\PycharmProjects\\Tennis Project\\.venv\\Lib\\site-packages\\tensorflow\\_api\\v2\\__internal__\\__init__.py:8\u001B[0m\n\u001B[0;32m      3\u001B[0m \u001B[38;5;124;03m\"\"\"Public API for tf._api.v2.__internal__ namespace\u001B[39;00m\n\u001B[0;32m      4\u001B[0m \u001B[38;5;124;03m\"\"\"\u001B[39;00m\n\u001B[0;32m      6\u001B[0m \u001B[38;5;28;01mimport\u001B[39;00m \u001B[38;5;21;01msys\u001B[39;00m \u001B[38;5;28;01mas\u001B[39;00m \u001B[38;5;21;01m_sys\u001B[39;00m\n\u001B[1;32m----> 8\u001B[0m \u001B[38;5;28;01mfrom\u001B[39;00m \u001B[38;5;21;01mtensorflow\u001B[39;00m\u001B[38;5;21;01m.\u001B[39;00m\u001B[38;5;21;01m_api\u001B[39;00m\u001B[38;5;21;01m.\u001B[39;00m\u001B[38;5;21;01mv2\u001B[39;00m\u001B[38;5;21;01m.\u001B[39;00m\u001B[38;5;21;01m__internal__\u001B[39;00m \u001B[38;5;28;01mimport\u001B[39;00m autograph\n\u001B[0;32m      9\u001B[0m \u001B[38;5;28;01mfrom\u001B[39;00m \u001B[38;5;21;01mtensorflow\u001B[39;00m\u001B[38;5;21;01m.\u001B[39;00m\u001B[38;5;21;01m_api\u001B[39;00m\u001B[38;5;21;01m.\u001B[39;00m\u001B[38;5;21;01mv2\u001B[39;00m\u001B[38;5;21;01m.\u001B[39;00m\u001B[38;5;21;01m__internal__\u001B[39;00m \u001B[38;5;28;01mimport\u001B[39;00m decorator\n\u001B[0;32m     10\u001B[0m \u001B[38;5;28;01mfrom\u001B[39;00m \u001B[38;5;21;01mtensorflow\u001B[39;00m\u001B[38;5;21;01m.\u001B[39;00m\u001B[38;5;21;01m_api\u001B[39;00m\u001B[38;5;21;01m.\u001B[39;00m\u001B[38;5;21;01mv2\u001B[39;00m\u001B[38;5;21;01m.\u001B[39;00m\u001B[38;5;21;01m__internal__\u001B[39;00m \u001B[38;5;28;01mimport\u001B[39;00m dispatch\n",
      "File \u001B[1;32m~\\PycharmProjects\\Tennis Project\\.venv\\Lib\\site-packages\\tensorflow\\_api\\v2\\__internal__\\autograph\\__init__.py:8\u001B[0m\n\u001B[0;32m      3\u001B[0m \u001B[38;5;124;03m\"\"\"Public API for tf._api.v2.__internal__.autograph namespace\u001B[39;00m\n\u001B[0;32m      4\u001B[0m \u001B[38;5;124;03m\"\"\"\u001B[39;00m\n\u001B[0;32m      6\u001B[0m \u001B[38;5;28;01mimport\u001B[39;00m \u001B[38;5;21;01msys\u001B[39;00m \u001B[38;5;28;01mas\u001B[39;00m \u001B[38;5;21;01m_sys\u001B[39;00m\n\u001B[1;32m----> 8\u001B[0m \u001B[38;5;28;01mfrom\u001B[39;00m \u001B[38;5;21;01mtensorflow\u001B[39;00m\u001B[38;5;21;01m.\u001B[39;00m\u001B[38;5;21;01mpython\u001B[39;00m\u001B[38;5;21;01m.\u001B[39;00m\u001B[38;5;21;01mautograph\u001B[39;00m\u001B[38;5;21;01m.\u001B[39;00m\u001B[38;5;21;01mcore\u001B[39;00m\u001B[38;5;21;01m.\u001B[39;00m\u001B[38;5;21;01mag_ctx\u001B[39;00m \u001B[38;5;28;01mimport\u001B[39;00m control_status_ctx \u001B[38;5;66;03m# line: 34\u001B[39;00m\n\u001B[0;32m      9\u001B[0m \u001B[38;5;28;01mfrom\u001B[39;00m \u001B[38;5;21;01mtensorflow\u001B[39;00m\u001B[38;5;21;01m.\u001B[39;00m\u001B[38;5;21;01mpython\u001B[39;00m\u001B[38;5;21;01m.\u001B[39;00m\u001B[38;5;21;01mautograph\u001B[39;00m\u001B[38;5;21;01m.\u001B[39;00m\u001B[38;5;21;01mimpl\u001B[39;00m\u001B[38;5;21;01m.\u001B[39;00m\u001B[38;5;21;01mapi\u001B[39;00m \u001B[38;5;28;01mimport\u001B[39;00m tf_convert \u001B[38;5;66;03m# line: 493\u001B[39;00m\n",
      "File \u001B[1;32m~\\PycharmProjects\\Tennis Project\\.venv\\Lib\\site-packages\\tensorflow\\python\\autograph\\core\\ag_ctx.py:21\u001B[0m\n\u001B[0;32m     18\u001B[0m \u001B[38;5;28;01mimport\u001B[39;00m \u001B[38;5;21;01minspect\u001B[39;00m\n\u001B[0;32m     19\u001B[0m \u001B[38;5;28;01mimport\u001B[39;00m \u001B[38;5;21;01mthreading\u001B[39;00m\n\u001B[1;32m---> 21\u001B[0m \u001B[38;5;28;01mfrom\u001B[39;00m \u001B[38;5;21;01mtensorflow\u001B[39;00m\u001B[38;5;21;01m.\u001B[39;00m\u001B[38;5;21;01mpython\u001B[39;00m\u001B[38;5;21;01m.\u001B[39;00m\u001B[38;5;21;01mautograph\u001B[39;00m\u001B[38;5;21;01m.\u001B[39;00m\u001B[38;5;21;01mutils\u001B[39;00m \u001B[38;5;28;01mimport\u001B[39;00m ag_logging\n\u001B[0;32m     22\u001B[0m \u001B[38;5;28;01mfrom\u001B[39;00m \u001B[38;5;21;01mtensorflow\u001B[39;00m\u001B[38;5;21;01m.\u001B[39;00m\u001B[38;5;21;01mpython\u001B[39;00m\u001B[38;5;21;01m.\u001B[39;00m\u001B[38;5;21;01mutil\u001B[39;00m\u001B[38;5;21;01m.\u001B[39;00m\u001B[38;5;21;01mtf_export\u001B[39;00m \u001B[38;5;28;01mimport\u001B[39;00m tf_export\n\u001B[0;32m     25\u001B[0m stacks \u001B[38;5;241m=\u001B[39m threading\u001B[38;5;241m.\u001B[39mlocal()\n",
      "File \u001B[1;32m~\\PycharmProjects\\Tennis Project\\.venv\\Lib\\site-packages\\tensorflow\\python\\autograph\\utils\\__init__.py:17\u001B[0m\n\u001B[0;32m      1\u001B[0m \u001B[38;5;66;03m# Copyright 2016 The TensorFlow Authors. All Rights Reserved.\u001B[39;00m\n\u001B[0;32m      2\u001B[0m \u001B[38;5;66;03m#\u001B[39;00m\n\u001B[0;32m      3\u001B[0m \u001B[38;5;66;03m# Licensed under the Apache License, Version 2.0 (the \"License\");\u001B[39;00m\n\u001B[1;32m   (...)\u001B[0m\n\u001B[0;32m     13\u001B[0m \u001B[38;5;66;03m# limitations under the License.\u001B[39;00m\n\u001B[0;32m     14\u001B[0m \u001B[38;5;66;03m# ==============================================================================\u001B[39;00m\n\u001B[0;32m     15\u001B[0m \u001B[38;5;124;03m\"\"\"Utility module that contains APIs usable in the generated code.\"\"\"\u001B[39;00m\n\u001B[1;32m---> 17\u001B[0m \u001B[38;5;28;01mfrom\u001B[39;00m \u001B[38;5;21;01mtensorflow\u001B[39;00m\u001B[38;5;21;01m.\u001B[39;00m\u001B[38;5;21;01mpython\u001B[39;00m\u001B[38;5;21;01m.\u001B[39;00m\u001B[38;5;21;01mautograph\u001B[39;00m\u001B[38;5;21;01m.\u001B[39;00m\u001B[38;5;21;01mutils\u001B[39;00m\u001B[38;5;21;01m.\u001B[39;00m\u001B[38;5;21;01mcontext_managers\u001B[39;00m \u001B[38;5;28;01mimport\u001B[39;00m control_dependency_on_returns\n\u001B[0;32m     18\u001B[0m \u001B[38;5;28;01mfrom\u001B[39;00m \u001B[38;5;21;01mtensorflow\u001B[39;00m\u001B[38;5;21;01m.\u001B[39;00m\u001B[38;5;21;01mpython\u001B[39;00m\u001B[38;5;21;01m.\u001B[39;00m\u001B[38;5;21;01mautograph\u001B[39;00m\u001B[38;5;21;01m.\u001B[39;00m\u001B[38;5;21;01mutils\u001B[39;00m\u001B[38;5;21;01m.\u001B[39;00m\u001B[38;5;21;01mmisc\u001B[39;00m \u001B[38;5;28;01mimport\u001B[39;00m alias_tensors\n\u001B[0;32m     19\u001B[0m \u001B[38;5;28;01mfrom\u001B[39;00m \u001B[38;5;21;01mtensorflow\u001B[39;00m\u001B[38;5;21;01m.\u001B[39;00m\u001B[38;5;21;01mpython\u001B[39;00m\u001B[38;5;21;01m.\u001B[39;00m\u001B[38;5;21;01mautograph\u001B[39;00m\u001B[38;5;21;01m.\u001B[39;00m\u001B[38;5;21;01mutils\u001B[39;00m\u001B[38;5;21;01m.\u001B[39;00m\u001B[38;5;21;01mtensor_list\u001B[39;00m \u001B[38;5;28;01mimport\u001B[39;00m dynamic_list_append\n",
      "File \u001B[1;32m~\\PycharmProjects\\Tennis Project\\.venv\\Lib\\site-packages\\tensorflow\\python\\autograph\\utils\\context_managers.py:19\u001B[0m\n\u001B[0;32m     15\u001B[0m \u001B[38;5;124;03m\"\"\"Various context managers.\"\"\"\u001B[39;00m\n\u001B[0;32m     17\u001B[0m \u001B[38;5;28;01mimport\u001B[39;00m \u001B[38;5;21;01mcontextlib\u001B[39;00m\n\u001B[1;32m---> 19\u001B[0m \u001B[38;5;28;01mfrom\u001B[39;00m \u001B[38;5;21;01mtensorflow\u001B[39;00m\u001B[38;5;21;01m.\u001B[39;00m\u001B[38;5;21;01mpython\u001B[39;00m\u001B[38;5;21;01m.\u001B[39;00m\u001B[38;5;21;01mframework\u001B[39;00m \u001B[38;5;28;01mimport\u001B[39;00m ops\n\u001B[0;32m     20\u001B[0m \u001B[38;5;28;01mfrom\u001B[39;00m \u001B[38;5;21;01mtensorflow\u001B[39;00m\u001B[38;5;21;01m.\u001B[39;00m\u001B[38;5;21;01mpython\u001B[39;00m\u001B[38;5;21;01m.\u001B[39;00m\u001B[38;5;21;01mops\u001B[39;00m \u001B[38;5;28;01mimport\u001B[39;00m tensor_array_ops\n\u001B[0;32m     23\u001B[0m \u001B[38;5;28;01mdef\u001B[39;00m \u001B[38;5;21mcontrol_dependency_on_returns\u001B[39m(return_value):\n",
      "File \u001B[1;32m~\\PycharmProjects\\Tennis Project\\.venv\\Lib\\site-packages\\tensorflow\\python\\framework\\ops.py:50\u001B[0m\n\u001B[0;32m     48\u001B[0m \u001B[38;5;28;01mfrom\u001B[39;00m \u001B[38;5;21;01mtensorflow\u001B[39;00m\u001B[38;5;21;01m.\u001B[39;00m\u001B[38;5;21;01mpython\u001B[39;00m \u001B[38;5;28;01mimport\u001B[39;00m tf2\n\u001B[0;32m     49\u001B[0m \u001B[38;5;28;01mfrom\u001B[39;00m \u001B[38;5;21;01mtensorflow\u001B[39;00m\u001B[38;5;21;01m.\u001B[39;00m\u001B[38;5;21;01mpython\u001B[39;00m\u001B[38;5;21;01m.\u001B[39;00m\u001B[38;5;21;01mclient\u001B[39;00m \u001B[38;5;28;01mimport\u001B[39;00m pywrap_tf_session\n\u001B[1;32m---> 50\u001B[0m \u001B[38;5;28;01mfrom\u001B[39;00m \u001B[38;5;21;01mtensorflow\u001B[39;00m\u001B[38;5;21;01m.\u001B[39;00m\u001B[38;5;21;01mpython\u001B[39;00m\u001B[38;5;21;01m.\u001B[39;00m\u001B[38;5;21;01meager\u001B[39;00m \u001B[38;5;28;01mimport\u001B[39;00m context\n\u001B[0;32m     51\u001B[0m \u001B[38;5;28;01mfrom\u001B[39;00m \u001B[38;5;21;01mtensorflow\u001B[39;00m\u001B[38;5;21;01m.\u001B[39;00m\u001B[38;5;21;01mpython\u001B[39;00m\u001B[38;5;21;01m.\u001B[39;00m\u001B[38;5;21;01meager\u001B[39;00m \u001B[38;5;28;01mimport\u001B[39;00m core\n\u001B[0;32m     52\u001B[0m \u001B[38;5;28;01mfrom\u001B[39;00m \u001B[38;5;21;01mtensorflow\u001B[39;00m\u001B[38;5;21;01m.\u001B[39;00m\u001B[38;5;21;01mpython\u001B[39;00m\u001B[38;5;21;01m.\u001B[39;00m\u001B[38;5;21;01meager\u001B[39;00m \u001B[38;5;28;01mimport\u001B[39;00m monitoring\n",
      "File \u001B[1;32m~\\PycharmProjects\\Tennis Project\\.venv\\Lib\\site-packages\\tensorflow\\python\\eager\\context.py:37\u001B[0m\n\u001B[0;32m     35\u001B[0m \u001B[38;5;28;01mfrom\u001B[39;00m \u001B[38;5;21;01mtensorflow\u001B[39;00m\u001B[38;5;21;01m.\u001B[39;00m\u001B[38;5;21;01mpython\u001B[39;00m\u001B[38;5;21;01m.\u001B[39;00m\u001B[38;5;21;01mclient\u001B[39;00m \u001B[38;5;28;01mimport\u001B[39;00m pywrap_tf_session\n\u001B[0;32m     36\u001B[0m \u001B[38;5;28;01mfrom\u001B[39;00m \u001B[38;5;21;01mtensorflow\u001B[39;00m\u001B[38;5;21;01m.\u001B[39;00m\u001B[38;5;21;01mpython\u001B[39;00m\u001B[38;5;21;01m.\u001B[39;00m\u001B[38;5;21;01meager\u001B[39;00m \u001B[38;5;28;01mimport\u001B[39;00m cancellation\n\u001B[1;32m---> 37\u001B[0m \u001B[38;5;28;01mfrom\u001B[39;00m \u001B[38;5;21;01mtensorflow\u001B[39;00m\u001B[38;5;21;01m.\u001B[39;00m\u001B[38;5;21;01mpython\u001B[39;00m\u001B[38;5;21;01m.\u001B[39;00m\u001B[38;5;21;01meager\u001B[39;00m \u001B[38;5;28;01mimport\u001B[39;00m execute\n\u001B[0;32m     38\u001B[0m \u001B[38;5;28;01mfrom\u001B[39;00m \u001B[38;5;21;01mtensorflow\u001B[39;00m\u001B[38;5;21;01m.\u001B[39;00m\u001B[38;5;21;01mpython\u001B[39;00m\u001B[38;5;21;01m.\u001B[39;00m\u001B[38;5;21;01meager\u001B[39;00m \u001B[38;5;28;01mimport\u001B[39;00m executor\n\u001B[0;32m     39\u001B[0m \u001B[38;5;28;01mfrom\u001B[39;00m \u001B[38;5;21;01mtensorflow\u001B[39;00m\u001B[38;5;21;01m.\u001B[39;00m\u001B[38;5;21;01mpython\u001B[39;00m\u001B[38;5;21;01m.\u001B[39;00m\u001B[38;5;21;01meager\u001B[39;00m \u001B[38;5;28;01mimport\u001B[39;00m monitoring\n",
      "File \u001B[1;32m~\\PycharmProjects\\Tennis Project\\.venv\\Lib\\site-packages\\tensorflow\\python\\eager\\execute.py:21\u001B[0m\n\u001B[0;32m     19\u001B[0m \u001B[38;5;28;01mfrom\u001B[39;00m \u001B[38;5;21;01mtensorflow\u001B[39;00m\u001B[38;5;21;01m.\u001B[39;00m\u001B[38;5;21;01mpython\u001B[39;00m \u001B[38;5;28;01mimport\u001B[39;00m pywrap_tfe\n\u001B[0;32m     20\u001B[0m \u001B[38;5;28;01mfrom\u001B[39;00m \u001B[38;5;21;01mtensorflow\u001B[39;00m\u001B[38;5;21;01m.\u001B[39;00m\u001B[38;5;21;01mpython\u001B[39;00m\u001B[38;5;21;01m.\u001B[39;00m\u001B[38;5;21;01meager\u001B[39;00m \u001B[38;5;28;01mimport\u001B[39;00m core\n\u001B[1;32m---> 21\u001B[0m \u001B[38;5;28;01mfrom\u001B[39;00m \u001B[38;5;21;01mtensorflow\u001B[39;00m\u001B[38;5;21;01m.\u001B[39;00m\u001B[38;5;21;01mpython\u001B[39;00m\u001B[38;5;21;01m.\u001B[39;00m\u001B[38;5;21;01mframework\u001B[39;00m \u001B[38;5;28;01mimport\u001B[39;00m dtypes\n\u001B[0;32m     22\u001B[0m \u001B[38;5;28;01mfrom\u001B[39;00m \u001B[38;5;21;01mtensorflow\u001B[39;00m\u001B[38;5;21;01m.\u001B[39;00m\u001B[38;5;21;01mpython\u001B[39;00m\u001B[38;5;21;01m.\u001B[39;00m\u001B[38;5;21;01mframework\u001B[39;00m \u001B[38;5;28;01mimport\u001B[39;00m tensor_conversion_registry\n\u001B[0;32m     23\u001B[0m \u001B[38;5;28;01mfrom\u001B[39;00m \u001B[38;5;21;01mtensorflow\u001B[39;00m\u001B[38;5;21;01m.\u001B[39;00m\u001B[38;5;21;01mpython\u001B[39;00m\u001B[38;5;21;01m.\u001B[39;00m\u001B[38;5;21;01mframework\u001B[39;00m \u001B[38;5;28;01mimport\u001B[39;00m tensor_shape\n",
      "File \u001B[1;32m~\\PycharmProjects\\Tennis Project\\.venv\\Lib\\site-packages\\tensorflow\\python\\framework\\dtypes.py:21\u001B[0m\n\u001B[0;32m     18\u001B[0m \u001B[38;5;28;01mimport\u001B[39;00m \u001B[38;5;21;01mdataclasses\u001B[39;00m\n\u001B[0;32m     19\u001B[0m \u001B[38;5;28;01mfrom\u001B[39;00m \u001B[38;5;21;01mtyping\u001B[39;00m \u001B[38;5;28;01mimport\u001B[39;00m Type, Sequence, Optional\n\u001B[1;32m---> 21\u001B[0m \u001B[38;5;28;01mimport\u001B[39;00m \u001B[38;5;21;01mml_dtypes\u001B[39;00m\n\u001B[0;32m     22\u001B[0m \u001B[38;5;28;01mimport\u001B[39;00m \u001B[38;5;21;01mnumpy\u001B[39;00m \u001B[38;5;28;01mas\u001B[39;00m \u001B[38;5;21;01mnp\u001B[39;00m\n\u001B[0;32m     24\u001B[0m \u001B[38;5;28;01mfrom\u001B[39;00m \u001B[38;5;21;01mtensorflow\u001B[39;00m\u001B[38;5;21;01m.\u001B[39;00m\u001B[38;5;21;01mcore\u001B[39;00m\u001B[38;5;21;01m.\u001B[39;00m\u001B[38;5;21;01mframework\u001B[39;00m \u001B[38;5;28;01mimport\u001B[39;00m types_pb2\n",
      "File \u001B[1;32m~\\PycharmProjects\\Tennis Project\\.venv\\Lib\\site-packages\\ml_dtypes\\__init__.py:32\u001B[0m\n\u001B[0;32m     16\u001B[0m __all__ \u001B[38;5;241m=\u001B[39m [\n\u001B[0;32m     17\u001B[0m     \u001B[38;5;124m'\u001B[39m\u001B[38;5;124m__version__\u001B[39m\u001B[38;5;124m'\u001B[39m,\n\u001B[0;32m     18\u001B[0m     \u001B[38;5;124m'\u001B[39m\u001B[38;5;124mbfloat16\u001B[39m\u001B[38;5;124m'\u001B[39m,\n\u001B[1;32m   (...)\u001B[0m\n\u001B[0;32m     27\u001B[0m     \u001B[38;5;124m'\u001B[39m\u001B[38;5;124muint4\u001B[39m\u001B[38;5;124m'\u001B[39m,\n\u001B[0;32m     28\u001B[0m ]\n\u001B[0;32m     30\u001B[0m \u001B[38;5;28;01mfrom\u001B[39;00m \u001B[38;5;21;01mtyping\u001B[39;00m \u001B[38;5;28;01mimport\u001B[39;00m Type\n\u001B[1;32m---> 32\u001B[0m \u001B[38;5;28;01mfrom\u001B[39;00m \u001B[38;5;21;01mml_dtypes\u001B[39;00m\u001B[38;5;21;01m.\u001B[39;00m\u001B[38;5;21;01m_finfo\u001B[39;00m \u001B[38;5;28;01mimport\u001B[39;00m finfo\n\u001B[0;32m     33\u001B[0m \u001B[38;5;28;01mfrom\u001B[39;00m \u001B[38;5;21;01mml_dtypes\u001B[39;00m\u001B[38;5;21;01m.\u001B[39;00m\u001B[38;5;21;01m_iinfo\u001B[39;00m \u001B[38;5;28;01mimport\u001B[39;00m iinfo\n\u001B[0;32m     34\u001B[0m \u001B[38;5;28;01mfrom\u001B[39;00m \u001B[38;5;21;01mml_dtypes\u001B[39;00m\u001B[38;5;21;01m.\u001B[39;00m\u001B[38;5;21;01m_ml_dtypes_ext\u001B[39;00m \u001B[38;5;28;01mimport\u001B[39;00m bfloat16\n",
      "File \u001B[1;32m~\\PycharmProjects\\Tennis Project\\.venv\\Lib\\site-packages\\ml_dtypes\\_finfo.py:27\u001B[0m\n\u001B[0;32m     24\u001B[0m \u001B[38;5;28;01mfrom\u001B[39;00m \u001B[38;5;21;01mml_dtypes\u001B[39;00m\u001B[38;5;21;01m.\u001B[39;00m\u001B[38;5;21;01m_ml_dtypes_ext\u001B[39;00m \u001B[38;5;28;01mimport\u001B[39;00m float8_e5m2fnuz\n\u001B[0;32m     25\u001B[0m \u001B[38;5;28;01mimport\u001B[39;00m \u001B[38;5;21;01mnumpy\u001B[39;00m \u001B[38;5;28;01mas\u001B[39;00m \u001B[38;5;21;01mnp\u001B[39;00m\n\u001B[1;32m---> 27\u001B[0m _bfloat16_dtype \u001B[38;5;241m=\u001B[39m \u001B[43mnp\u001B[49m\u001B[38;5;241;43m.\u001B[39;49m\u001B[43mdtype\u001B[49m\u001B[43m(\u001B[49m\u001B[43mbfloat16\u001B[49m\u001B[43m)\u001B[49m\n\u001B[0;32m     28\u001B[0m _float8_e4m3b11fnuz_dtype \u001B[38;5;241m=\u001B[39m np\u001B[38;5;241m.\u001B[39mdtype(float8_e4m3b11fnuz)\n\u001B[0;32m     29\u001B[0m _float8_e4m3fn_dtype \u001B[38;5;241m=\u001B[39m np\u001B[38;5;241m.\u001B[39mdtype(float8_e4m3fn)\n",
      "File \u001B[1;32m~\\PycharmProjects\\Tennis Project\\.venv\\Lib\\site-packages\\numpy\\core\\_dtype.py:46\u001B[0m, in \u001B[0;36m__repr__\u001B[1;34m(dtype)\u001B[0m\n\u001B[0;32m     45\u001B[0m \u001B[38;5;28;01mdef\u001B[39;00m \u001B[38;5;21m__repr__\u001B[39m(dtype):\n\u001B[1;32m---> 46\u001B[0m     arg_str \u001B[38;5;241m=\u001B[39m \u001B[43m_construction_repr\u001B[49m\u001B[43m(\u001B[49m\u001B[43mdtype\u001B[49m\u001B[43m,\u001B[49m\u001B[43m \u001B[49m\u001B[43minclude_align\u001B[49m\u001B[38;5;241;43m=\u001B[39;49m\u001B[38;5;28;43;01mFalse\u001B[39;49;00m\u001B[43m)\u001B[49m\n\u001B[0;32m     47\u001B[0m     \u001B[38;5;28;01mif\u001B[39;00m dtype\u001B[38;5;241m.\u001B[39misalignedstruct:\n\u001B[0;32m     48\u001B[0m         arg_str \u001B[38;5;241m=\u001B[39m arg_str \u001B[38;5;241m+\u001B[39m \u001B[38;5;124m\"\u001B[39m\u001B[38;5;124m, align=True\u001B[39m\u001B[38;5;124m\"\u001B[39m\n",
      "File \u001B[1;32m~\\PycharmProjects\\Tennis Project\\.venv\\Lib\\site-packages\\numpy\\core\\_dtype.py:100\u001B[0m, in \u001B[0;36m_construction_repr\u001B[1;34m(dtype, include_align, short)\u001B[0m\n\u001B[0;32m     98\u001B[0m     \u001B[38;5;28;01mreturn\u001B[39;00m _subarray_str(dtype)\n\u001B[0;32m     99\u001B[0m \u001B[38;5;28;01melse\u001B[39;00m:\n\u001B[1;32m--> 100\u001B[0m     \u001B[38;5;28;01mreturn\u001B[39;00m \u001B[43m_scalar_str\u001B[49m\u001B[43m(\u001B[49m\u001B[43mdtype\u001B[49m\u001B[43m,\u001B[49m\u001B[43m \u001B[49m\u001B[43mshort\u001B[49m\u001B[38;5;241;43m=\u001B[39;49m\u001B[43mshort\u001B[49m\u001B[43m)\u001B[49m\n",
      "File \u001B[1;32m~\\PycharmProjects\\Tennis Project\\.venv\\Lib\\site-packages\\numpy\\core\\_dtype.py:143\u001B[0m, in \u001B[0;36m_scalar_str\u001B[1;34m(dtype, short)\u001B[0m\n\u001B[0;32m    140\u001B[0m \u001B[38;5;28;01melif\u001B[39;00m dtype\u001B[38;5;241m.\u001B[39mtype \u001B[38;5;241m==\u001B[39m np\u001B[38;5;241m.\u001B[39mtimedelta64:\n\u001B[0;32m    141\u001B[0m     \u001B[38;5;28;01mreturn\u001B[39;00m \u001B[38;5;124m\"\u001B[39m\u001B[38;5;124m'\u001B[39m\u001B[38;5;132;01m%s\u001B[39;00m\u001B[38;5;124mm8\u001B[39m\u001B[38;5;132;01m%s\u001B[39;00m\u001B[38;5;124m'\u001B[39m\u001B[38;5;124m\"\u001B[39m \u001B[38;5;241m%\u001B[39m (byteorder, _datetime_metadata_str(dtype))\n\u001B[1;32m--> 143\u001B[0m \u001B[38;5;28;01melif\u001B[39;00m \u001B[43mnp\u001B[49m\u001B[38;5;241;43m.\u001B[39;49m\u001B[43missubdtype\u001B[49m\u001B[43m(\u001B[49m\u001B[43mdtype\u001B[49m\u001B[43m,\u001B[49m\u001B[43m \u001B[49m\u001B[43mnp\u001B[49m\u001B[38;5;241;43m.\u001B[39;49m\u001B[43mnumber\u001B[49m\u001B[43m)\u001B[49m:\n\u001B[0;32m    144\u001B[0m     \u001B[38;5;66;03m# Short repr with endianness, like '<f8'\u001B[39;00m\n\u001B[0;32m    145\u001B[0m     \u001B[38;5;28;01mif\u001B[39;00m short \u001B[38;5;129;01mor\u001B[39;00m dtype\u001B[38;5;241m.\u001B[39mbyteorder \u001B[38;5;129;01mnot\u001B[39;00m \u001B[38;5;129;01min\u001B[39;00m (\u001B[38;5;124m'\u001B[39m\u001B[38;5;124m=\u001B[39m\u001B[38;5;124m'\u001B[39m, \u001B[38;5;124m'\u001B[39m\u001B[38;5;124m|\u001B[39m\u001B[38;5;124m'\u001B[39m):\n\u001B[0;32m    146\u001B[0m         \u001B[38;5;28;01mreturn\u001B[39;00m \u001B[38;5;124m\"\u001B[39m\u001B[38;5;124m'\u001B[39m\u001B[38;5;132;01m%s\u001B[39;00m\u001B[38;5;132;01m%c\u001B[39;00m\u001B[38;5;132;01m%d\u001B[39;00m\u001B[38;5;124m'\u001B[39m\u001B[38;5;124m\"\u001B[39m \u001B[38;5;241m%\u001B[39m (byteorder, dtype\u001B[38;5;241m.\u001B[39mkind, dtype\u001B[38;5;241m.\u001B[39mitemsize)\n",
      "File \u001B[1;32m~\\PycharmProjects\\Tennis Project\\.venv\\Lib\\site-packages\\numpy\\_core\\numerictypes.py:529\u001B[0m, in \u001B[0;36missubdtype\u001B[1;34m(arg1, arg2)\u001B[0m\n",
      "File \u001B[1;32m~\\PycharmProjects\\Tennis Project\\.venv\\Lib\\site-packages\\numpy\\core\\_dtype.py:46\u001B[0m, in \u001B[0;36m__repr__\u001B[1;34m(dtype)\u001B[0m\n\u001B[0;32m     45\u001B[0m \u001B[38;5;28;01mdef\u001B[39;00m \u001B[38;5;21m__repr__\u001B[39m(dtype):\n\u001B[1;32m---> 46\u001B[0m     arg_str \u001B[38;5;241m=\u001B[39m \u001B[43m_construction_repr\u001B[49m\u001B[43m(\u001B[49m\u001B[43mdtype\u001B[49m\u001B[43m,\u001B[49m\u001B[43m \u001B[49m\u001B[43minclude_align\u001B[49m\u001B[38;5;241;43m=\u001B[39;49m\u001B[38;5;28;43;01mFalse\u001B[39;49;00m\u001B[43m)\u001B[49m\n\u001B[0;32m     47\u001B[0m     \u001B[38;5;28;01mif\u001B[39;00m dtype\u001B[38;5;241m.\u001B[39misalignedstruct:\n\u001B[0;32m     48\u001B[0m         arg_str \u001B[38;5;241m=\u001B[39m arg_str \u001B[38;5;241m+\u001B[39m \u001B[38;5;124m\"\u001B[39m\u001B[38;5;124m, align=True\u001B[39m\u001B[38;5;124m\"\u001B[39m\n",
      "File \u001B[1;32m~\\PycharmProjects\\Tennis Project\\.venv\\Lib\\site-packages\\numpy\\core\\_dtype.py:100\u001B[0m, in \u001B[0;36m_construction_repr\u001B[1;34m(dtype, include_align, short)\u001B[0m\n\u001B[0;32m     98\u001B[0m     \u001B[38;5;28;01mreturn\u001B[39;00m _subarray_str(dtype)\n\u001B[0;32m     99\u001B[0m \u001B[38;5;28;01melse\u001B[39;00m:\n\u001B[1;32m--> 100\u001B[0m     \u001B[38;5;28;01mreturn\u001B[39;00m \u001B[43m_scalar_str\u001B[49m\u001B[43m(\u001B[49m\u001B[43mdtype\u001B[49m\u001B[43m,\u001B[49m\u001B[43m \u001B[49m\u001B[43mshort\u001B[49m\u001B[38;5;241;43m=\u001B[39;49m\u001B[43mshort\u001B[49m\u001B[43m)\u001B[49m\n",
      "File \u001B[1;32m~\\PycharmProjects\\Tennis Project\\.venv\\Lib\\site-packages\\numpy\\core\\_dtype.py:143\u001B[0m, in \u001B[0;36m_scalar_str\u001B[1;34m(dtype, short)\u001B[0m\n\u001B[0;32m    140\u001B[0m \u001B[38;5;28;01melif\u001B[39;00m dtype\u001B[38;5;241m.\u001B[39mtype \u001B[38;5;241m==\u001B[39m np\u001B[38;5;241m.\u001B[39mtimedelta64:\n\u001B[0;32m    141\u001B[0m     \u001B[38;5;28;01mreturn\u001B[39;00m \u001B[38;5;124m\"\u001B[39m\u001B[38;5;124m'\u001B[39m\u001B[38;5;132;01m%s\u001B[39;00m\u001B[38;5;124mm8\u001B[39m\u001B[38;5;132;01m%s\u001B[39;00m\u001B[38;5;124m'\u001B[39m\u001B[38;5;124m\"\u001B[39m \u001B[38;5;241m%\u001B[39m (byteorder, _datetime_metadata_str(dtype))\n\u001B[1;32m--> 143\u001B[0m \u001B[38;5;28;01melif\u001B[39;00m \u001B[43mnp\u001B[49m\u001B[38;5;241;43m.\u001B[39;49m\u001B[43missubdtype\u001B[49m\u001B[43m(\u001B[49m\u001B[43mdtype\u001B[49m\u001B[43m,\u001B[49m\u001B[43m \u001B[49m\u001B[43mnp\u001B[49m\u001B[38;5;241;43m.\u001B[39;49m\u001B[43mnumber\u001B[49m\u001B[43m)\u001B[49m:\n\u001B[0;32m    144\u001B[0m     \u001B[38;5;66;03m# Short repr with endianness, like '<f8'\u001B[39;00m\n\u001B[0;32m    145\u001B[0m     \u001B[38;5;28;01mif\u001B[39;00m short \u001B[38;5;129;01mor\u001B[39;00m dtype\u001B[38;5;241m.\u001B[39mbyteorder \u001B[38;5;129;01mnot\u001B[39;00m \u001B[38;5;129;01min\u001B[39;00m (\u001B[38;5;124m'\u001B[39m\u001B[38;5;124m=\u001B[39m\u001B[38;5;124m'\u001B[39m, \u001B[38;5;124m'\u001B[39m\u001B[38;5;124m|\u001B[39m\u001B[38;5;124m'\u001B[39m):\n\u001B[0;32m    146\u001B[0m         \u001B[38;5;28;01mreturn\u001B[39;00m \u001B[38;5;124m\"\u001B[39m\u001B[38;5;124m'\u001B[39m\u001B[38;5;132;01m%s\u001B[39;00m\u001B[38;5;132;01m%c\u001B[39;00m\u001B[38;5;132;01m%d\u001B[39;00m\u001B[38;5;124m'\u001B[39m\u001B[38;5;124m\"\u001B[39m \u001B[38;5;241m%\u001B[39m (byteorder, dtype\u001B[38;5;241m.\u001B[39mkind, dtype\u001B[38;5;241m.\u001B[39mitemsize)\n",
      "File \u001B[1;32m~\\PycharmProjects\\Tennis Project\\.venv\\Lib\\site-packages\\numpy\\_core\\numerictypes.py:529\u001B[0m, in \u001B[0;36missubdtype\u001B[1;34m(arg1, arg2)\u001B[0m\n",
      "    \u001B[1;31m[... skipping similar frames: __repr__ at line 46 (718 times), _construction_repr at line 100 (717 times), _scalar_str at line 143 (717 times), issubdtype at line 529 (717 times)]\u001B[0m\n",
      "File \u001B[1;32m~\\PycharmProjects\\Tennis Project\\.venv\\Lib\\site-packages\\numpy\\core\\_dtype.py:100\u001B[0m, in \u001B[0;36m_construction_repr\u001B[1;34m(dtype, include_align, short)\u001B[0m\n\u001B[0;32m     98\u001B[0m     \u001B[38;5;28;01mreturn\u001B[39;00m _subarray_str(dtype)\n\u001B[0;32m     99\u001B[0m \u001B[38;5;28;01melse\u001B[39;00m:\n\u001B[1;32m--> 100\u001B[0m     \u001B[38;5;28;01mreturn\u001B[39;00m \u001B[43m_scalar_str\u001B[49m\u001B[43m(\u001B[49m\u001B[43mdtype\u001B[49m\u001B[43m,\u001B[49m\u001B[43m \u001B[49m\u001B[43mshort\u001B[49m\u001B[38;5;241;43m=\u001B[39;49m\u001B[43mshort\u001B[49m\u001B[43m)\u001B[49m\n",
      "File \u001B[1;32m~\\PycharmProjects\\Tennis Project\\.venv\\Lib\\site-packages\\numpy\\core\\_dtype.py:143\u001B[0m, in \u001B[0;36m_scalar_str\u001B[1;34m(dtype, short)\u001B[0m\n\u001B[0;32m    140\u001B[0m \u001B[38;5;28;01melif\u001B[39;00m dtype\u001B[38;5;241m.\u001B[39mtype \u001B[38;5;241m==\u001B[39m np\u001B[38;5;241m.\u001B[39mtimedelta64:\n\u001B[0;32m    141\u001B[0m     \u001B[38;5;28;01mreturn\u001B[39;00m \u001B[38;5;124m\"\u001B[39m\u001B[38;5;124m'\u001B[39m\u001B[38;5;132;01m%s\u001B[39;00m\u001B[38;5;124mm8\u001B[39m\u001B[38;5;132;01m%s\u001B[39;00m\u001B[38;5;124m'\u001B[39m\u001B[38;5;124m\"\u001B[39m \u001B[38;5;241m%\u001B[39m (byteorder, _datetime_metadata_str(dtype))\n\u001B[1;32m--> 143\u001B[0m \u001B[38;5;28;01melif\u001B[39;00m \u001B[43mnp\u001B[49m\u001B[38;5;241;43m.\u001B[39;49m\u001B[43missubdtype\u001B[49m\u001B[43m(\u001B[49m\u001B[43mdtype\u001B[49m\u001B[43m,\u001B[49m\u001B[43m \u001B[49m\u001B[43mnp\u001B[49m\u001B[38;5;241;43m.\u001B[39;49m\u001B[43mnumber\u001B[49m\u001B[43m)\u001B[49m:\n\u001B[0;32m    144\u001B[0m     \u001B[38;5;66;03m# Short repr with endianness, like '<f8'\u001B[39;00m\n\u001B[0;32m    145\u001B[0m     \u001B[38;5;28;01mif\u001B[39;00m short \u001B[38;5;129;01mor\u001B[39;00m dtype\u001B[38;5;241m.\u001B[39mbyteorder \u001B[38;5;129;01mnot\u001B[39;00m \u001B[38;5;129;01min\u001B[39;00m (\u001B[38;5;124m'\u001B[39m\u001B[38;5;124m=\u001B[39m\u001B[38;5;124m'\u001B[39m, \u001B[38;5;124m'\u001B[39m\u001B[38;5;124m|\u001B[39m\u001B[38;5;124m'\u001B[39m):\n\u001B[0;32m    146\u001B[0m         \u001B[38;5;28;01mreturn\u001B[39;00m \u001B[38;5;124m\"\u001B[39m\u001B[38;5;124m'\u001B[39m\u001B[38;5;132;01m%s\u001B[39;00m\u001B[38;5;132;01m%c\u001B[39;00m\u001B[38;5;132;01m%d\u001B[39;00m\u001B[38;5;124m'\u001B[39m\u001B[38;5;124m\"\u001B[39m \u001B[38;5;241m%\u001B[39m (byteorder, dtype\u001B[38;5;241m.\u001B[39mkind, dtype\u001B[38;5;241m.\u001B[39mitemsize)\n",
      "File \u001B[1;32m~\\PycharmProjects\\Tennis Project\\.venv\\Lib\\site-packages\\numpy\\_core\\numerictypes.py:529\u001B[0m, in \u001B[0;36missubdtype\u001B[1;34m(arg1, arg2)\u001B[0m\n",
      "File \u001B[1;32m~\\PycharmProjects\\Tennis Project\\.venv\\Lib\\site-packages\\numpy\\core\\_dtype.py:46\u001B[0m, in \u001B[0;36m__repr__\u001B[1;34m(dtype)\u001B[0m\n\u001B[0;32m     45\u001B[0m \u001B[38;5;28;01mdef\u001B[39;00m \u001B[38;5;21m__repr__\u001B[39m(dtype):\n\u001B[1;32m---> 46\u001B[0m     arg_str \u001B[38;5;241m=\u001B[39m \u001B[43m_construction_repr\u001B[49m\u001B[43m(\u001B[49m\u001B[43mdtype\u001B[49m\u001B[43m,\u001B[49m\u001B[43m \u001B[49m\u001B[43minclude_align\u001B[49m\u001B[38;5;241;43m=\u001B[39;49m\u001B[38;5;28;43;01mFalse\u001B[39;49;00m\u001B[43m)\u001B[49m\n\u001B[0;32m     47\u001B[0m     \u001B[38;5;28;01mif\u001B[39;00m dtype\u001B[38;5;241m.\u001B[39misalignedstruct:\n\u001B[0;32m     48\u001B[0m         arg_str \u001B[38;5;241m=\u001B[39m arg_str \u001B[38;5;241m+\u001B[39m \u001B[38;5;124m\"\u001B[39m\u001B[38;5;124m, align=True\u001B[39m\u001B[38;5;124m\"\u001B[39m\n",
      "\u001B[1;31mRecursionError\u001B[0m: maximum recursion depth exceeded"
     ]
    }
   ],
   "execution_count": 47
  },
  {
   "metadata": {},
   "cell_type": "code",
   "outputs": [],
   "execution_count": null,
   "source": "",
   "id": "aaa916216001c33b"
  }
 ],
 "metadata": {
  "kernelspec": {
   "display_name": "Python 3",
   "language": "python",
   "name": "python3"
  },
  "language_info": {
   "codemirror_mode": {
    "name": "ipython",
    "version": 2
   },
   "file_extension": ".py",
   "mimetype": "text/x-python",
   "name": "python",
   "nbconvert_exporter": "python",
   "pygments_lexer": "ipython2",
   "version": "2.7.6"
  }
 },
 "nbformat": 4,
 "nbformat_minor": 5
}
